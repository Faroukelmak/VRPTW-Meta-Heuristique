{
 "cells": [
  {
   "cell_type": "markdown",
   "metadata": {},
   "source": [
    "## Libraries"
   ]
  },
  {
   "cell_type": "code",
   "execution_count": 1,
   "metadata": {},
   "outputs": [],
   "source": [
    "import pulp as lp\n",
    "import random"
   ]
  },
  {
   "cell_type": "markdown",
   "metadata": {},
   "source": [
    "## Src"
   ]
  },
  {
   "cell_type": "code",
   "execution_count": 2,
   "metadata": {},
   "outputs": [],
   "source": [
    "def generate_vrptw_parameters(\n",
    "    num_vehicles,\n",
    "    num_customers,\n",
    "    cost_range=(10, 50),\n",
    "    time_range=(5, 30),\n",
    "    demand_range=(5, 15),\n",
    "    capacity=20,\n",
    "    time_window_range=(0, 50),\n",
    "    large_constant=1000,\n",
    "):\n",
    "    \"\"\"\n",
    "    Generates random VRPTW parameters for a given number of vehicles and customers.\n",
    "\n",
    "    Parameters:\n",
    "    - num_vehicles (int): Number of vehicles.\n",
    "    - num_customers (int): Number of customers (not including depots).\n",
    "    - cost_range (tuple): Range for travel costs between nodes.\n",
    "    - time_range (tuple): Range for travel times between nodes.\n",
    "    - demand_range (tuple): Range for customer demands.\n",
    "    - capacity (int): Capacity of each vehicle.\n",
    "    - time_window_range (tuple): Range for time windows (start and end times).\n",
    "    - large_constant (int): Large constant for constraints.\n",
    "\n",
    "    Returns:\n",
    "    - dict: A dictionary containing all sets and parameters.\n",
    "    \"\"\"\n",
    "    # Sets\n",
    "    V = list(range(1, num_vehicles + 1))  # Vehicles labeled from 1 to num_vehicles\n",
    "    N = list(\n",
    "        range(num_customers + 2)\n",
    "    )  # Nodes labeled from 0 to num_customers+1 (including depots)\n",
    "    C = list(range(1, num_customers + 1))  # Customers labeled from 1 to num_customers\n",
    "\n",
    "    # Parameters\n",
    "    cij = {(i, j): random.randint(*cost_range) for i in N for j in N if i != j}\n",
    "    tij = {(i, j): random.randint(*time_range) for i in N for j in N if i != j}\n",
    "    di = {i: random.randint(*demand_range) for i in C}  # Customer demands\n",
    "    q = capacity  # Vehicle capacity\n",
    "    a = {i: random.randint(*time_window_range) for i in N}  # Start of time window\n",
    "    b = {\n",
    "        i: random.randint(a[i] + 1, time_window_range[1]) for i in N\n",
    "    }  # End of time window, after start time\n",
    "    K = large_constant  # Large constant for time window constraints\n",
    "\n",
    "    # Ensuring depot time windows\n",
    "    a[0], b[0] = 0, time_window_range[1]  # Starting depot time window\n",
    "    a[num_customers + 1], b[num_customers + 1] = (\n",
    "        0,\n",
    "        time_window_range[1],\n",
    "    )  # Returning depot time window\n",
    "\n",
    "    return {\n",
    "        \"V\": V,\n",
    "        \"N\": N,\n",
    "        \"C\": C,\n",
    "        \"cij\": cij,\n",
    "        \"tij\": tij,\n",
    "        \"di\": di,\n",
    "        \"q\": q,\n",
    "        \"a\": a,\n",
    "        \"b\": b,\n",
    "        \"K\": K,\n",
    "    }"
   ]
  },
  {
   "cell_type": "markdown",
   "metadata": {},
   "source": [
    "## Constants"
   ]
  },
  {
   "cell_type": "code",
   "execution_count": 3,
   "metadata": {},
   "outputs": [
    {
     "name": "stdout",
     "output_type": "stream",
     "text": [
      "{'V': [1, 2], 'N': [0, 1, 2, 3, 4], 'C': [1, 2, 3], 'cij': {(0, 1): 44, (0, 2): 43, (0, 3): 10, (0, 4): 49, (1, 0): 28, (1, 2): 34, (1, 3): 38, (1, 4): 44, (2, 0): 46, (2, 1): 19, (2, 3): 27, (2, 4): 18, (3, 0): 11, (3, 1): 10, (3, 2): 14, (3, 4): 34, (4, 0): 22, (4, 1): 27, (4, 2): 47, (4, 3): 23}, 'tij': {(0, 1): 24, (0, 2): 28, (0, 3): 8, (0, 4): 12, (1, 0): 18, (1, 2): 13, (1, 3): 5, (1, 4): 25, (2, 0): 30, (2, 1): 13, (2, 3): 13, (2, 4): 13, (3, 0): 23, (3, 1): 10, (3, 2): 14, (3, 4): 21, (4, 0): 17, (4, 1): 21, (4, 2): 30, (4, 3): 9}, 'di': {1: 8, 2: 10, 3: 14}, 'q': 20, 'a': {0: 0, 1: 35, 2: 21, 3: 22, 4: 0}, 'b': {0: 50, 1: 39, 2: 34, 3: 48, 4: 50}, 'K': 1000}\n"
     ]
    }
   ],
   "source": [
    "n = 3  # num of customers\n",
    "num_vehicles = 2\n",
    "parameters = generate_vrptw_parameters(num_vehicles=num_vehicles, num_customers=n)\n",
    "print(parameters)\n",
    "V, N, C, cij, tij, di, q, a, b, K = parameters.values()"
   ]
  },
  {
   "cell_type": "markdown",
   "metadata": {},
   "source": [
    "Modèle de minimisation de coût"
   ]
  },
  {
   "cell_type": "code",
   "execution_count": 4,
   "metadata": {},
   "outputs": [],
   "source": [
    "problem = lp.LpProblem(\"VRPTW\", lp.LpMinimize)"
   ]
  },
  {
   "cell_type": "markdown",
   "metadata": {},
   "source": [
    "Dicision variables"
   ]
  },
  {
   "cell_type": "code",
   "execution_count": 5,
   "metadata": {},
   "outputs": [],
   "source": [
    "x = lp.LpVariable.dicts(\"x\", ((k, i, j) for k in V for i in N for j in N if i != j), cat='Binary')\n",
    "s = lp.LpVariable.dicts(\"s\", ((i, k) for i in N for k in V), lowBound=0, cat='Continuous')"
   ]
  },
  {
   "cell_type": "markdown",
   "metadata": {},
   "source": [
    "Objective function"
   ]
  },
  {
   "cell_type": "code",
   "execution_count": 6,
   "metadata": {},
   "outputs": [],
   "source": [
    "problem += lp.lpSum(cij[i, j] * x[k, i, j] for k in V for i in N for j in N if i != j)"
   ]
  },
  {
   "cell_type": "markdown",
   "metadata": {},
   "source": [
    "## Constraints"
   ]
  },
  {
   "cell_type": "markdown",
   "metadata": {},
   "source": [
    "Each customer is visited exactly once"
   ]
  },
  {
   "cell_type": "code",
   "execution_count": 7,
   "metadata": {},
   "outputs": [],
   "source": [
    "for i in C:\n",
    "    problem += lp.lpSum(x[k, i, j] for k in V for j in N if i != j) == 1\n"
   ]
  },
  {
   "cell_type": "markdown",
   "metadata": {},
   "source": [
    "Vehicle capacity constraint"
   ]
  },
  {
   "cell_type": "code",
   "execution_count": 8,
   "metadata": {},
   "outputs": [],
   "source": [
    "\n",
    "for k in V:\n",
    "    problem += lp.lpSum(di[i] * x[k, i, j] for i in C for j in N if i != j) <= q\n"
   ]
  },
  {
   "cell_type": "markdown",
   "metadata": {},
   "source": [
    "Each vehicle starts at the depot (node 0)"
   ]
  },
  {
   "cell_type": "code",
   "execution_count": 9,
   "metadata": {},
   "outputs": [],
   "source": [
    "for k in V:\n",
    "    problem += lp.lpSum(x[k, 0, j] for j in N if j != 0) == 1"
   ]
  },
  {
   "cell_type": "markdown",
   "metadata": {},
   "source": [
    "Flow conservation for each customer"
   ]
  },
  {
   "cell_type": "code",
   "execution_count": 10,
   "metadata": {},
   "outputs": [],
   "source": [
    "for k in V:\n",
    "    for h in C:\n",
    "        problem += lp.lpSum(x[k, i, h] for i in N if i != h) == lp.lpSum(\n",
    "            x[k, h, j] for j in N if h != j\n",
    "        )\n"
   ]
  },
  {
   "cell_type": "markdown",
   "metadata": {},
   "source": [
    "Each vehicle ends at the returning depot (node n+1)"
   ]
  },
  {
   "cell_type": "code",
   "execution_count": 11,
   "metadata": {},
   "outputs": [],
   "source": [
    "for k in V:\n",
    "    problem += lp.lpSum(x[k, i, n + 1] for i in N if i != n + 1) == 1"
   ]
  },
  {
   "cell_type": "markdown",
   "metadata": {},
   "source": [
    "Time window constraint with large constant K"
   ]
  },
  {
   "cell_type": "code",
   "execution_count": 12,
   "metadata": {},
   "outputs": [],
   "source": [
    "for k in V:\n",
    "    for i in N:\n",
    "        for j in N:\n",
    "            if i != j:\n",
    "                problem += s[i, k] + tij[i, j] - K * (1 - x[k, i, j]) <= s[j, k]"
   ]
  },
  {
   "cell_type": "markdown",
   "metadata": {},
   "source": [
    "Start time must be within the time window"
   ]
  },
  {
   "cell_type": "code",
   "execution_count": 13,
   "metadata": {},
   "outputs": [],
   "source": [
    "for i in N:\n",
    "    for k in V:\n",
    "        problem += a[i] <= s[i, k]\n",
    "        problem += s[i, k] <= b[i]\n"
   ]
  },
  {
   "cell_type": "markdown",
   "metadata": {},
   "source": [
    "Binary constraint for x variables"
   ]
  },
  {
   "cell_type": "code",
   "execution_count": 14,
   "metadata": {},
   "outputs": [],
   "source": [
    "for k in V:\n",
    "    for i in N:\n",
    "        for j in N:\n",
    "            if i != j:\n",
    "                problem += x[k, i, j] >= 0\n",
    "                problem += x[k, i, j] <= 1"
   ]
  },
  {
   "cell_type": "markdown",
   "metadata": {},
   "source": [
    "## Solution"
   ]
  },
  {
   "cell_type": "code",
   "execution_count": 15,
   "metadata": {},
   "outputs": [
    {
     "name": "stdout",
     "output_type": "stream",
     "text": [
      "Welcome to the CBC MILP Solver \n",
      "Version: 2.10.3 \n",
      "Build Date: Dec 15 2019 \n",
      "\n",
      "command line - /home/cuphead/Projects/VRPTW-Meta-Heuristique/venv/lib/python3.10/site-packages/pulp/solverdir/cbc/linux/64/cbc /tmp/106ec39cc9564ba882875961f56da6a6-pulp.mps -timeMode elapsed -branch -printingOptions all -solution /tmp/106ec39cc9564ba882875961f56da6a6-pulp.sol (default strategy 1)\n",
      "At line 2 NAME          MODEL\n",
      "At line 3 ROWS\n",
      "At line 160 COLUMNS\n",
      "At line 613 RHS\n",
      "At line 769 BOUNDS\n",
      "At line 810 ENDATA\n",
      "Problem MODEL has 155 rows, 50 columns and 332 elements\n",
      "Coin0008I MODEL read with 0 errors\n",
      "Option for timeMode changed from cpu to elapsed\n",
      "Continuous objective value is 121 - 0.00 seconds\n",
      "Cgl0003I 16 fixed, 0 tightened bounds, 0 strengthened rows, 0 substitutions\n",
      "Cgl0000I Cut generators found to be infeasible! (or unbounded)\n",
      "Pre-processing says infeasible or unbounded\n",
      "Option for printingOptions changed from normal to all\n",
      "Total time (CPU seconds):       0.01   (Wallclock seconds):       0.02\n",
      "\n",
      "s_(0,_1) = 0.0\n",
      "s_(0,_2) = 0.0\n",
      "s_(1,_1) = 35.0\n",
      "s_(1,_2) = 35.0\n",
      "s_(2,_1) = 21.0\n",
      "s_(2,_2) = 21.0\n",
      "s_(3,_1) = 22.0\n",
      "s_(3,_2) = 22.0\n",
      "s_(4,_1) = 0.0\n",
      "s_(4,_2) = 0.0\n",
      "x_(1,_0,_1) = 0.0\n",
      "x_(1,_0,_2) = 0.0\n",
      "x_(1,_0,_3) = 0.625\n",
      "x_(1,_0,_4) = 0.375\n",
      "x_(1,_1,_0) = 0.0\n",
      "x_(1,_1,_2) = 0.625\n",
      "x_(1,_1,_3) = 0.0\n",
      "x_(1,_1,_4) = 0.0\n",
      "x_(1,_2,_0) = 0.0\n",
      "x_(1,_2,_1) = 0.0\n",
      "x_(1,_2,_3) = 0.0\n",
      "x_(1,_2,_4) = 0.625\n",
      "x_(1,_3,_0) = 0.0\n",
      "x_(1,_3,_1) = 0.625\n",
      "x_(1,_3,_2) = 0.0\n",
      "x_(1,_3,_4) = 0.0\n",
      "x_(1,_4,_0) = 0.0\n",
      "x_(1,_4,_1) = 0.0\n",
      "x_(1,_4,_2) = 0.0\n",
      "x_(1,_4,_3) = 0.0\n",
      "x_(2,_0,_1) = 0.0\n",
      "x_(2,_0,_2) = 0.0\n",
      "x_(2,_0,_3) = 0.375\n",
      "x_(2,_0,_4) = 0.625\n",
      "x_(2,_1,_0) = 0.0\n",
      "x_(2,_1,_2) = 0.375\n",
      "x_(2,_1,_3) = 0.0\n",
      "x_(2,_1,_4) = 0.0\n",
      "x_(2,_2,_0) = 0.0\n",
      "x_(2,_2,_1) = 0.0\n",
      "x_(2,_2,_3) = 0.0\n",
      "x_(2,_2,_4) = 0.375\n",
      "x_(2,_3,_0) = 0.0\n",
      "x_(2,_3,_1) = 0.375\n",
      "x_(2,_3,_2) = 0.0\n",
      "x_(2,_3,_4) = 0.0\n",
      "x_(2,_4,_0) = 0.0\n",
      "x_(2,_4,_1) = 0.0\n",
      "x_(2,_4,_2) = 0.0\n",
      "x_(2,_4,_3) = 0.0\n",
      "Solution Status: Infeasible\n",
      "Objective value: 121.0\n"
     ]
    }
   ],
   "source": [
    "problem.solve()\n",
    "\n",
    "for var in problem.variables():\n",
    "    print(f\"{var.name} = {var.varValue}\")\n",
    "\n",
    "print(\"Solution Status:\", lp.LpStatus[problem.status])\n",
    "print(\"Objective value:\", lp.value(problem.objective))"
   ]
  },
  {
   "cell_type": "markdown",
   "metadata": {},
   "source": [
    "Get the routes for each vehicle"
   ]
  },
  {
   "cell_type": "code",
   "execution_count": 9,
   "metadata": {},
   "outputs": [],
   "source": [
    "routes = {k: [] for k in V} \n",
    "\n",
    "for k in V:\n",
    "    current_node = 0  # Start from the depot (node 0)\n",
    "    while (\n",
    "        current_node != n + 1\n",
    "    ):  # Continue until reaching the returning depot (node n+1)\n",
    "        for j in N:\n",
    "            if current_node != j and lp.value(x[k, current_node, j]) == 1:\n",
    "                routes[k].append((current_node, j))\n",
    "                current_node = j\n",
    "                break"
   ]
  },
  {
   "cell_type": "markdown",
   "metadata": {},
   "source": [
    "Print the routes"
   ]
  },
  {
   "cell_type": "code",
   "execution_count": 10,
   "metadata": {},
   "outputs": [
    {
     "name": "stdout",
     "output_type": "stream",
     "text": [
      "Route for vehicle 1: 0 -> 2 -> 4\n",
      "Route for vehicle 2: 0 -> 3 -> 1 -> 4\n"
     ]
    }
   ],
   "source": [
    "for k in V:\n",
    "    route_str = \" -> \".join(str(node) for node, _ in routes[k]) + f\" -> {n + 1}\"\n",
    "    print(f\"Route for vehicle {k}: {route_str}\")"
   ]
  },
  {
   "cell_type": "markdown",
   "metadata": {},
   "source": [
    "Display service start times for each customer"
   ]
  },
  {
   "cell_type": "code",
   "execution_count": 11,
   "metadata": {},
   "outputs": [
    {
     "name": "stdout",
     "output_type": "stream",
     "text": [
      "\n",
      "Service start times for vehicle 1:\n",
      "  Customer 1: Start time = 15.00\n",
      "  Customer 2: Start time = 20.00\n",
      "  Customer 3: Start time = 11.00\n",
      "  Customer 4: Start time = 50.00\n",
      "\n",
      "Service start times for vehicle 2:\n",
      "  Customer 1: Start time = 38.00\n",
      "  Customer 2: Start time = 20.00\n",
      "  Customer 3: Start time = 11.00\n",
      "  Customer 4: Start time = 50.00\n"
     ]
    }
   ],
   "source": [
    "for k in V:\n",
    "    print(f\"\\nService start times for vehicle {k}:\")\n",
    "    for i in N:\n",
    "        start_time = lp.value(s[i, k])\n",
    "        if (\n",
    "            start_time is not None and start_time > 0\n",
    "        ):  # Only print if the vehicle visits the customer\n",
    "            print(f\"  Customer {i}: Start time = {start_time:.2f}\")"
   ]
  }
 ],
 "metadata": {
  "kernelspec": {
   "display_name": "venv",
   "language": "python",
   "name": "python3"
  },
  "language_info": {
   "codemirror_mode": {
    "name": "ipython",
    "version": 3
   },
   "file_extension": ".py",
   "mimetype": "text/x-python",
   "name": "python",
   "nbconvert_exporter": "python",
   "pygments_lexer": "ipython3",
   "version": "3.10.12"
  }
 },
 "nbformat": 4,
 "nbformat_minor": 2
}
