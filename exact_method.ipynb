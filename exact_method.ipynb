{
 "cells": [
  {
   "cell_type": "markdown",
   "metadata": {},
   "source": [
    "## Libraries"
   ]
  },
  {
   "cell_type": "code",
   "execution_count": 12,
   "metadata": {},
   "outputs": [],
   "source": [
    "import numpy as np\n",
    "import pulp as pl\n",
    "import random"
   ]
  },
  {
   "cell_type": "markdown",
   "metadata": {},
   "source": [
    "## Src"
   ]
  },
  {
   "cell_type": "code",
   "execution_count": 13,
   "metadata": {},
   "outputs": [],
   "source": [
    "def generate_vrptw_data(\n",
    "    num_customers,\n",
    "    max_demand,\n",
    "    max_travel_time,\n",
    "    max_service_time,\n",
    "    max_time_window,\n",
    "    max_cost,\n",
    "    random_seed=None,\n",
    "):\n",
    "    if random_seed is not None:\n",
    "        random.seed(random_seed)\n",
    "        np.random.seed(random_seed)\n",
    "\n",
    "    demands = np.array(\n",
    "        [0] + [random.randint(1, max_demand) for _ in range(num_customers)]\n",
    "    )\n",
    "\n",
    "    travel_times = np.zeros((num_customers + 1, num_customers + 1), dtype=int)\n",
    "    for i in range(num_customers + 1):\n",
    "        for j in range(i + 1, num_customers + 1):\n",
    "            travel_times[i, j] = travel_times[j, i] = random.randint(1, max_travel_time)\n",
    "\n",
    "    costs = np.zeros((num_customers + 1, num_customers + 1), dtype=int)\n",
    "    for i in range(num_customers + 1):\n",
    "        for j in range(i + 1, num_customers + 1):\n",
    "            costs[i, j] = costs[j, i] = random.randint(1, max_cost)\n",
    "\n",
    "    time_windows = np.array(\n",
    "        [(0, max_time_window)]\n",
    "        + [\n",
    "            (\n",
    "                random.randint(0, max_time_window // 2),\n",
    "                random.randint(max_time_window // 2, max_time_window),\n",
    "            )\n",
    "            for _ in range(num_customers)\n",
    "        ]\n",
    "    )\n",
    "\n",
    "    service_times = np.array(\n",
    "        [0] + [random.randint(1, max_service_time) for _ in range(num_customers)]\n",
    "    )\n",
    "\n",
    "    return demands, travel_times, costs, time_windows, service_times"
   ]
  },
  {
   "cell_type": "markdown",
   "metadata": {},
   "source": [
    "## Constants"
   ]
  },
  {
   "cell_type": "code",
   "execution_count": 14,
   "metadata": {},
   "outputs": [
    {
     "name": "stdout",
     "output_type": "stream",
     "text": [
      "Demands: [0 1 1 3 2 2 2 1 5 1 5]\n",
      "Travel Times:\n",
      " [[ 0 14  2  1  3  7  8 17 20  1 18]\n",
      " [14  0  7 23 21 23 18 14  8 15 19]\n",
      " [ 2  7  0  9 26 28  1 25 26  6 23]\n",
      " [ 1 23  9  0 14 11  9  5  7 25 11]\n",
      " [ 3 21 26 14  0  4  3 13  4 12 28]\n",
      " [ 7 23 28 11  4  0 12 20  9 26  2]\n",
      " [ 8 18  1  9  3 12  0 24 15 18  4]\n",
      " [17 14 25  5 13 20 24  0 30 13  3]\n",
      " [20  8 26  7  4  9 15 30  0 18 10]\n",
      " [ 1 15  6 25 12 26 18 13 18  0 27]\n",
      " [18 19 23 11 28  2  4  3 10 27  0]]\n",
      "Costs:\n",
      " [[ 0 41 40 24 37 13 46  5  3 43 15]\n",
      " [41  0 50 19  6 15  7 25 18 30 41]\n",
      " [40 50  0 24 11 24 23 14 43 18 45]\n",
      " [24 19 24  0 44 42  5 39 41 11 35]\n",
      " [37  6 11 44  0 47 16 11 30 25 18]\n",
      " [13 15 24 42 47  0 41 45 36 15 44]\n",
      " [46  7 23  5 16 41  0 21 50 50  4]\n",
      " [ 5 25 14 39 11 45 21  0 15  3 21]\n",
      " [ 3 18 43 41 30 36 50 15  0 26 18]\n",
      " [43 30 18 11 25 15 50  3 26  0  5]\n",
      " [15 41 45 35 18 44  4 21 18  5  0]]\n",
      "Time Windows: [[  0 100]\n",
      " [ 13  86]\n",
      " [ 45  70]\n",
      " [ 13  91]\n",
      " [ 31  75]\n",
      " [ 41  79]\n",
      " [  9  66]\n",
      " [  8  65]\n",
      " [ 47  85]\n",
      " [ 34  66]\n",
      " [ 47  87]]\n",
      "Service Times: [ 0  7 15 10  7  6  4  3  9  8  2]\n"
     ]
    }
   ],
   "source": [
    "max_demand = 5\n",
    "max_travel_time = 30\n",
    "max_service_time = 15\n",
    "max_time_window = 100\n",
    "N = 10  # Nombre de points de collecte (sans compter le dépôt)\n",
    "num_camions = 2\n",
    "camion_capacity = 15\n",
    "max_cost = 50\n",
    "\n",
    "demands, travel_times, costs, time_windows, service_times = generate_vrptw_data(\n",
    "    N,\n",
    "    max_demand,\n",
    "    max_travel_time,\n",
    "    max_service_time,\n",
    "    max_time_window,\n",
    "    max_cost,\n",
    "    random_seed=42\n",
    ")\n",
    "print(\"Demands:\", demands)\n",
    "print(\"Travel Times:\\n\", travel_times)\n",
    "print(\"Costs:\\n\", costs)\n",
    "print(\"Time Windows:\", time_windows)\n",
    "print(\"Service Times:\", service_times)"
   ]
  },
  {
   "cell_type": "markdown",
   "metadata": {},
   "source": [
    "Modèle de minimisation de coût"
   ]
  },
  {
   "cell_type": "code",
   "execution_count": 15,
   "metadata": {},
   "outputs": [],
   "source": [
    "vrptw_model = pl.LpProblem(\"Optimisation_Collecte_Dechets\", pl.LpMinimize)"
   ]
  },
  {
   "cell_type": "markdown",
   "metadata": {},
   "source": [
    "Variables de décision"
   ]
  },
  {
   "cell_type": "code",
   "execution_count": 16,
   "metadata": {},
   "outputs": [],
   "source": [
    "x = pl.LpVariable.dicts(\n",
    "    \"x\",\n",
    "    ((i, j, k) for i in range(N + 1) for j in range(N + 1) for k in range(num_camions)),\n",
    "    cat=\"Binary\",\n",
    ")\n",
    "s = pl.LpVariable.dicts(\n",
    "    \"s\",\n",
    "    ((i, k) for i in range(N + 1) for k in range(num_camions)),\n",
    "    lowBound=0,\n",
    "    cat=\"Continuous\",\n",
    ")"
   ]
  },
  {
   "cell_type": "markdown",
   "metadata": {},
   "source": [
    "Fonction objectif : minimiser la distance totale parcourue"
   ]
  },
  {
   "cell_type": "code",
   "execution_count": 17,
   "metadata": {},
   "outputs": [],
   "source": [
    "vrptw_model += (\n",
    "    pl.lpSum(\n",
    "        costs[i][j] * x[i, j, k]\n",
    "        for i in range(N + 1)\n",
    "        for j in range(N + 1)\n",
    "        for k in range(num_camions)\n",
    "    ),\n",
    "    \"TotalCost\",\n",
    ")"
   ]
  },
  {
   "cell_type": "markdown",
   "metadata": {},
   "source": [
    "## constraints"
   ]
  },
  {
   "cell_type": "markdown",
   "metadata": {},
   "source": [
    "1. Each customer is visited exactly once"
   ]
  },
  {
   "cell_type": "code",
   "execution_count": 18,
   "metadata": {},
   "outputs": [],
   "source": [
    "for i in range(1, N + 1):\n",
    "    vrptw_model += (\n",
    "        pl.lpSum(\n",
    "            x[i, j, k] for j in range(N + 1) for k in range(num_camions)\n",
    "        )\n",
    "        == 1,\n",
    "        f\"VisitOnce_{i}\",\n",
    "    )"
   ]
  },
  {
   "cell_type": "markdown",
   "metadata": {},
   "source": [
    "2. Vehicle capacity constraint"
   ]
  },
  {
   "cell_type": "code",
   "execution_count": 19,
   "metadata": {},
   "outputs": [],
   "source": [
    "for k in range(num_camions):\n",
    "    vrptw_model += (\n",
    "        pl.lpSum(\n",
    "            demands[i] * x[i, j, k]\n",
    "            for i in range(N + 1)\n",
    "            for j in range(N + 1)\n",
    "        )\n",
    "        <= camion_capacity,\n",
    "        f\"Capacity_{k}\",\n",
    "    )"
   ]
  },
  {
   "cell_type": "markdown",
   "metadata": {},
   "source": [
    "3. Flow conservation constraint (leave each node after entering it)"
   ]
  },
  {
   "cell_type": "code",
   "execution_count": 20,
   "metadata": {},
   "outputs": [],
   "source": [
    "for k in range(num_camions):\n",
    "    for i in range(N + 1):\n",
    "        vrptw_model += (\n",
    "            pl.lpSum(x[i, j, k] for j in range(N + 1))\n",
    "            == pl.lpSum(x[j, i, k] for j in range(N + 1)),\n",
    "            f\"FlowConservation_{i}_{k}\",\n",
    "        )\n"
   ]
  },
  {
   "cell_type": "markdown",
   "metadata": {},
   "source": [
    "4. Start and end at the depot"
   ]
  },
  {
   "cell_type": "code",
   "execution_count": 21,
   "metadata": {},
   "outputs": [],
   "source": [
    "for k in range(num_camions):\n",
    "    vrptw_model += (\n",
    "        pl.lpSum(x[0, j, k] for j in range(1, N + 1)) == 1,\n",
    "        f\"StartAtDepot_{k}\",\n",
    "    )\n",
    "    vrptw_model += (\n",
    "        pl.lpSum(x[j, 0, k] for j in range(1, N + 1)) == 1,\n",
    "        f\"EndAtDepot_{k}\",\n",
    "    )"
   ]
  },
  {
   "cell_type": "markdown",
   "metadata": {},
   "source": [
    "5. Time window constraints"
   ]
  },
  {
   "cell_type": "code",
   "execution_count": 22,
   "metadata": {},
   "outputs": [],
   "source": [
    "for k in range(num_camions):\n",
    "    for i in range(N + 1):\n",
    "        for j in range(1, N + 1):  # skip depot as destination\n",
    "            if i != j:\n",
    "                vrptw_model += (\n",
    "                    s[i, k] + travel_times[i][j] + service_times[i] <= s[j, k] + (1 - x[i, j, k]) * 1e6\n",
    "                ), f\"TimeWindow_{i}_{j}_{k}\"\n",
    "\n",
    "    for i in range(1, N + 1):  # skip depot\n",
    "        vrptw_model += (time_windows[i][0] <= s[i, k]), f\"TimeWindowStart_{i}_{k}\"\n",
    "        vrptw_model += (s[i, k] <= time_windows[i][1]), f\"TimeWindowEnd_{i}_{k}\"\n"
   ]
  },
  {
   "cell_type": "markdown",
   "metadata": {},
   "source": [
    "---"
   ]
  },
  {
   "cell_type": "markdown",
   "metadata": {},
   "source": [
    "## Solve"
   ]
  },
  {
   "cell_type": "code",
   "execution_count": 23,
   "metadata": {},
   "outputs": [
    {
     "name": "stdout",
     "output_type": "stream",
     "text": [
      "Welcome to the CBC MILP Solver \n",
      "Version: 2.10.3 \n",
      "Build Date: Dec 15 2019 \n",
      "\n",
      "command line - /home/cuphead/Projects/VRPTW-Meta-Heuristique/venv/lib/python3.10/site-packages/pulp/solverdir/cbc/linux/64/cbc /tmp/5c7c7d7365c44283b78cbd3bba087bd8-pulp.mps -timeMode elapsed -branch -printingOptions all -solution /tmp/5c7c7d7365c44283b78cbd3bba087bd8-pulp.sol (default strategy 1)\n",
      "At line 2 NAME          MODEL\n",
      "At line 3 ROWS\n",
      "At line 283 COLUMNS\n",
      "At line 2570 RHS\n",
      "At line 2849 BOUNDS\n",
      "At line 3092 ENDATA\n",
      "Problem MODEL has 278 rows, 264 columns and 1560 elements\n",
      "Coin0008I MODEL read with 0 errors\n",
      "Option for timeMode changed from cpu to elapsed\n",
      "Continuous objective value is 16 - 0.00 seconds\n",
      "Cgl0003I 20 fixed, 0 tightened bounds, 176 strengthened rows, 0 substitutions\n",
      "Cgl0003I 0 fixed, 0 tightened bounds, 156 strengthened rows, 0 substitutions\n",
      "Cgl0003I 0 fixed, 0 tightened bounds, 156 strengthened rows, 0 substitutions\n",
      "Cgl0003I 0 fixed, 0 tightened bounds, 155 strengthened rows, 0 substitutions\n",
      "Cgl0003I 0 fixed, 0 tightened bounds, 153 strengthened rows, 0 substitutions\n",
      "Cgl0003I 0 fixed, 0 tightened bounds, 152 strengthened rows, 0 substitutions\n",
      "Cgl0003I 0 fixed, 0 tightened bounds, 149 strengthened rows, 0 substitutions\n",
      "Cgl0003I 0 fixed, 0 tightened bounds, 146 strengthened rows, 0 substitutions\n",
      "Cgl0003I 0 fixed, 0 tightened bounds, 146 strengthened rows, 0 substitutions\n",
      "Cgl0003I 0 fixed, 0 tightened bounds, 144 strengthened rows, 0 substitutions\n",
      "Cgl0004I processed model has 194 rows, 232 columns (212 integer (212 of which binary)) and 2781 elements\n",
      "Cutoff increment increased from 1e-05 to 0.9999\n",
      "Cbc0038I Initial state - 8 integers unsatisfied sum - 2\n",
      "Cbc0038I Pass   1: suminf.    0.00000 (0) obj. 16 iterations 37\n",
      "Cbc0038I Solution found of 16\n",
      "Cbc0038I Relaxing continuous gives 16\n",
      "Cbc0038I Before mini branch and bound, 204 integers at bound fixed and 18 continuous\n",
      "Cbc0038I Mini branch and bound did not improve solution (0.21 seconds)\n",
      "Cbc0038I After 0.21 seconds - Feasibility pump exiting with objective of 16 - took 0.00 seconds\n",
      "Cbc0012I Integer solution of 16 found by feasibility pump after 0 iterations and 0 nodes (0.21 seconds)\n",
      "Cbc0001I Search completed - best objective 16, took 0 iterations and 0 nodes (0.21 seconds)\n",
      "Cbc0035I Maximum depth 0, 0 variables fixed on reduced cost\n",
      "Cuts at root node changed objective from 16 to 16\n",
      "Probing was tried 0 times and created 0 cuts of which 0 were active after adding rounds of cuts (0.000 seconds)\n",
      "Gomory was tried 0 times and created 0 cuts of which 0 were active after adding rounds of cuts (0.000 seconds)\n",
      "Knapsack was tried 0 times and created 0 cuts of which 0 were active after adding rounds of cuts (0.000 seconds)\n",
      "Clique was tried 0 times and created 0 cuts of which 0 were active after adding rounds of cuts (0.000 seconds)\n",
      "MixedIntegerRounding2 was tried 0 times and created 0 cuts of which 0 were active after adding rounds of cuts (0.000 seconds)\n",
      "FlowCover was tried 0 times and created 0 cuts of which 0 were active after adding rounds of cuts (0.000 seconds)\n",
      "TwoMirCuts was tried 0 times and created 0 cuts of which 0 were active after adding rounds of cuts (0.000 seconds)\n",
      "ZeroHalf was tried 0 times and created 0 cuts of which 0 were active after adding rounds of cuts (0.000 seconds)\n",
      "\n",
      "Result - Optimal solution found\n",
      "\n",
      "Objective value:                16.00000000\n",
      "Enumerated nodes:               0\n",
      "Total iterations:               0\n",
      "Time (CPU seconds):             0.20\n",
      "Time (Wallclock seconds):       0.22\n",
      "\n",
      "Option for printingOptions changed from normal to all\n",
      "Total time (CPU seconds):       0.20   (Wallclock seconds):       0.22\n",
      "\n"
     ]
    },
    {
     "data": {
      "text/plain": [
       "1"
      ]
     },
     "execution_count": 23,
     "metadata": {},
     "output_type": "execute_result"
    }
   ],
   "source": [
    "vrptw_model.solve()"
   ]
  },
  {
   "cell_type": "code",
   "execution_count": 24,
   "metadata": {},
   "outputs": [
    {
     "name": "stdout",
     "output_type": "stream",
     "text": [
      "Optimal solution found with total cost: 16.0\n",
      "Routes: [[0, 7, 0], [0, 8, 0]]\n"
     ]
    }
   ],
   "source": [
    "if vrptw_model.status == pl.LpStatusOptimal:\n",
    "    print(\"Optimal solution found with total cost:\", pl.value(vrptw_model.objective))\n",
    "    routes = []\n",
    "    for k in range(num_camions):\n",
    "        route = [0]  # Start at depot\n",
    "        current_location = 0\n",
    "        while True:\n",
    "            next_location = None\n",
    "            for j in range(N + 1):\n",
    "                if pl.value(x[current_location, j, k]) == 1:\n",
    "                    route.append(j)\n",
    "                    next_location = j\n",
    "                    break\n",
    "            if next_location == 0 or next_location is None:\n",
    "                break\n",
    "            current_location = next_location\n",
    "        routes.append(route)\n",
    "    print(\"Routes:\", routes)\n",
    "else:\n",
    "    print(\"No optimal solution found.\")"
   ]
  }
 ],
 "metadata": {
  "kernelspec": {
   "display_name": "venv",
   "language": "python",
   "name": "python3"
  },
  "language_info": {
   "codemirror_mode": {
    "name": "ipython",
    "version": 3
   },
   "file_extension": ".py",
   "mimetype": "text/x-python",
   "name": "python",
   "nbconvert_exporter": "python",
   "pygments_lexer": "ipython3",
   "version": "3.10.12"
  }
 },
 "nbformat": 4,
 "nbformat_minor": 2
}
