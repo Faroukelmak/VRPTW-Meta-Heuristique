{
 "cells": [
  {
   "cell_type": "markdown",
   "metadata": {},
   "source": [
    "## Libraries"
   ]
  },
  {
   "cell_type": "code",
   "execution_count": 69,
   "metadata": {},
   "outputs": [],
   "source": [
    "import numpy as np\n",
    "import pulp as pl\n",
    "import random"
   ]
  },
  {
   "cell_type": "markdown",
   "metadata": {},
   "source": [
    "## Src"
   ]
  },
  {
   "cell_type": "code",
   "execution_count": 70,
   "metadata": {},
   "outputs": [],
   "source": [
    "def generate_vrptw_data(\n",
    "    num_customers,\n",
    "    max_demand,\n",
    "    max_travel_time,\n",
    "    max_service_time,\n",
    "    max_time_window,\n",
    "    max_cost,\n",
    "):\n",
    "    demands = np.array(\n",
    "        [0] + [random.randint(1, max_demand) for _ in range(num_customers)]\n",
    "    )\n",
    "\n",
    "    travel_times = np.zeros((num_customers + 1, num_customers + 1), dtype=int)\n",
    "    for i in range(num_customers + 1):\n",
    "        for j in range(i + 1, num_customers + 1):\n",
    "            travel_times[i, j] = travel_times[j, i] = random.randint(1, max_travel_time)\n",
    "\n",
    "    costs = np.zeros((num_customers + 1, num_customers + 1), dtype=int)\n",
    "    for i in range(num_customers + 1):\n",
    "        for j in range(i + 1, num_customers + 1):\n",
    "            costs[i, j] = costs[j, i] = random.randint(1, max_cost)\n",
    "\n",
    "    time_windows = np.array(\n",
    "        [(0, max_time_window)]\n",
    "        + [\n",
    "            (\n",
    "                random.randint(0, max_time_window // 2),\n",
    "                random.randint(max_time_window // 2, max_time_window),\n",
    "            )\n",
    "            for _ in range(num_customers)\n",
    "        ]\n",
    "    )\n",
    "\n",
    "    service_times = np.array(\n",
    "        [0] + [random.randint(1, max_service_time) for _ in range(num_customers)]\n",
    "    )\n",
    "\n",
    "    return demands, travel_times, costs, time_windows, service_times\n",
    "\n"
   ]
  },
  {
   "cell_type": "markdown",
   "metadata": {},
   "source": [
    "## Constants"
   ]
  },
  {
   "cell_type": "code",
   "execution_count": 71,
   "metadata": {},
   "outputs": [
    {
     "name": "stdout",
     "output_type": "stream",
     "text": [
      "Demands: [0 2 1 5 1 1 2 2 5 1 4]\n",
      "Travel Times:\n",
      " [[ 0 24 29 20  9  9 29  6 16 13 23]\n",
      " [24  0 22  3  9  1 24  2 28 25 15]\n",
      " [29 22  0 12 17 25 24  2 28 19 16]\n",
      " [20  3 12  0  2  2 16  7  8  3  4]\n",
      " [ 9  9 17  2  0  4 12  6 27 20  2]\n",
      " [ 9  1 25  2  4  0  6  9 16 23 14]\n",
      " [29 24 24 16 12  6  0 13  9 14 18]\n",
      " [ 6  2  2  7  6  9 13  0 24 19 18]\n",
      " [16 28 28  8 27 16  9 24  0 29 27]\n",
      " [13 25 19  3 20 23 14 19 29  0  2]\n",
      " [23 15 16  4  2 14 18 18 27  2  0]]\n",
      "Costs:\n",
      " [[ 0  6 32 47  1  4 24 47 49 34  6]\n",
      " [ 6  0 33 33 29 38 34 38 23 22 35]\n",
      " [32 33  0  8 38  3 40  8  2 18  3]\n",
      " [47 33  8  0 34 30 18 43 14 45 34]\n",
      " [ 1 29 38 34  0 34  2 41 44 37  4]\n",
      " [ 4 38  3 30 34  0 15 32 43 45 45]\n",
      " [24 34 40 18  2 15  0  8 23 33 39]\n",
      " [47 38  8 43 41 32  8  0  6 35 46]\n",
      " [49 23  2 14 44 43 23  6  0 48  1]\n",
      " [34 22 18 45 37 45 33 35 48  0 15]\n",
      " [ 6 35  3 34  4 45 39 46  1 15  0]]\n",
      "Time Windows: [[  0 100]\n",
      " [  0  59]\n",
      " [ 12  94]\n",
      " [ 37  82]\n",
      " [ 20  71]\n",
      " [ 16  72]\n",
      " [ 42  92]\n",
      " [ 42  57]\n",
      " [ 27  89]\n",
      " [ 28  95]\n",
      " [ 36  96]]\n",
      "Service Times: [ 0  8 11  9  8 13 12  9  6  3 10]\n"
     ]
    }
   ],
   "source": [
    "M = 1000  # Grande constante pour les contraintes de tempsQ\n",
    "\n",
    "max_demand = 5\n",
    "max_travel_time = 30\n",
    "max_service_time = 15\n",
    "max_time_window = 100\n",
    "N = 10  # Nombre de points de collecte (sans compter le dépôt)\n",
    "num_camions = 2\n",
    "camion_capacity = 15\n",
    "max_cost = 50\n",
    "\n",
    "demands, travel_times, costs, time_windows, service_times = generate_vrptw_data(\n",
    "    N,\n",
    "    max_demand,\n",
    "    max_travel_time,\n",
    "    max_service_time,\n",
    "    max_time_window,\n",
    "    max_cost,\n",
    ")\n",
    "print(\"Demands:\", demands)\n",
    "print(\"Travel Times:\\n\", travel_times)\n",
    "print(\"Costs:\\n\", costs)\n",
    "print(\"Time Windows:\", time_windows)\n",
    "print(\"Service Times:\", service_times)"
   ]
  },
  {
   "cell_type": "markdown",
   "metadata": {},
   "source": [
    "Modèle de minimisation de coût"
   ]
  },
  {
   "cell_type": "code",
   "execution_count": 72,
   "metadata": {},
   "outputs": [],
   "source": [
    "vrptw_model = pl.LpProblem(\"Optimisation_Collecte_Dechets\", pl.LpMinimize)"
   ]
  },
  {
   "cell_type": "markdown",
   "metadata": {},
   "source": [
    "Variables de décision"
   ]
  },
  {
   "cell_type": "code",
   "execution_count": 73,
   "metadata": {},
   "outputs": [],
   "source": [
    "# x = pl.LpVariable.dicts(\"x\", ((i, j, k) for i in range(N+1) for j in range(N+1) for k in range(num_camions)), cat='Binary')\n",
    "# s = pl.LpVariable.dicts(\"s\", (i for i in range(N+1)), lowBound=0, cat='Continuous')"
   ]
  },
  {
   "cell_type": "code",
   "execution_count": 74,
   "metadata": {},
   "outputs": [],
   "source": [
    "x = pl.LpVariable.dicts(\n",
    "    \"x\",\n",
    "    ((i, j, k) for i in range(N + 1) for j in range(N + 1) for k in range(num_camions)),\n",
    "    cat=\"Binary\",\n",
    ")\n",
    "s = pl.LpVariable.dicts(\n",
    "    \"s\",\n",
    "    ((i, k) for i in range(N + 1) for k in range(num_camions)),\n",
    "    lowBound=0,\n",
    "    cat=\"Continuous\",\n",
    ")"
   ]
  },
  {
   "cell_type": "markdown",
   "metadata": {},
   "source": [
    "Fonction objectif : minimiser la distance totale parcourue"
   ]
  },
  {
   "cell_type": "code",
   "execution_count": 76,
   "metadata": {},
   "outputs": [],
   "source": [
    "vrptw_model += (\n",
    "    pl.lpSum(\n",
    "        costs[i][j] * x[i, j, k]\n",
    "        for i in range(N + 1)\n",
    "        for j in range(N + 1)\n",
    "        for k in range(num_camions)\n",
    "    ),\n",
    "    \"TotalCost\",\n",
    ")"
   ]
  },
  {
   "cell_type": "markdown",
   "metadata": {},
   "source": [
    "## constraints"
   ]
  },
  {
   "cell_type": "markdown",
   "metadata": {},
   "source": [
    "1. Each customer is visited exactly once"
   ]
  },
  {
   "cell_type": "code",
   "execution_count": 77,
   "metadata": {},
   "outputs": [],
   "source": [
    "for i in range(1, N + 1):\n",
    "    vrptw_model += (\n",
    "        pl.lpSum(\n",
    "            x[i, j, k] for j in range(N + 1) for k in range(num_camions)\n",
    "        )\n",
    "        == 1,\n",
    "        f\"VisitOnce_{i}\",\n",
    "    )"
   ]
  },
  {
   "cell_type": "markdown",
   "metadata": {},
   "source": [
    "2. Vehicle capacity constraint"
   ]
  },
  {
   "cell_type": "code",
   "execution_count": 78,
   "metadata": {},
   "outputs": [],
   "source": [
    "for k in range(num_camions):\n",
    "    vrptw_model += (\n",
    "        pl.lpSum(\n",
    "            demands[i] * x[i, j, k]\n",
    "            for i in range(N + 1)\n",
    "            for j in range(N + 1)\n",
    "        )\n",
    "        <= camion_capacity,\n",
    "        f\"Capacity_{k}\",\n",
    "    )"
   ]
  },
  {
   "cell_type": "markdown",
   "metadata": {},
   "source": [
    "3. Flow conservation constraint (leave each node after entering it)"
   ]
  },
  {
   "cell_type": "code",
   "execution_count": 79,
   "metadata": {},
   "outputs": [],
   "source": [
    "for k in range(num_camions):\n",
    "    for i in range(N + 1):\n",
    "        vrptw_model += (\n",
    "            pl.lpSum(x[i, j, k] for j in range(N + 1))\n",
    "            == pl.lpSum(x[j, i, k] for j in range(N + 1)),\n",
    "            f\"FlowConservation_{i}_{k}\",\n",
    "        )\n"
   ]
  },
  {
   "cell_type": "markdown",
   "metadata": {},
   "source": [
    "4. Start and end at the depot"
   ]
  },
  {
   "cell_type": "code",
   "execution_count": 80,
   "metadata": {},
   "outputs": [],
   "source": [
    "for k in range(num_camions):\n",
    "    vrptw_model += (\n",
    "        pl.lpSum(x[0, j, k] for j in range(1, N + 1)) == 1,\n",
    "        f\"StartAtDepot_{k}\",\n",
    "    )\n",
    "    vrptw_model += (\n",
    "        pl.lpSum(x[j, 0, k] for j in range(1, N + 1)) == 1,\n",
    "        f\"EndAtDepot_{k}\",\n",
    "    )"
   ]
  },
  {
   "cell_type": "markdown",
   "metadata": {},
   "source": [
    "5. Time window constraints"
   ]
  },
  {
   "cell_type": "code",
   "execution_count": 81,
   "metadata": {},
   "outputs": [],
   "source": [
    "for k in range(num_camions):\n",
    "    for i in range(N + 1):\n",
    "        for j in range(1, N + 1):  # skip depot as destination\n",
    "            if i != j:\n",
    "                vrptw_model += (\n",
    "                    s[i, k] + travel_times[i][j] + service_times[i] <= s[j, k] + (1 - x[i, j, k]) * 1e6\n",
    "                ), f\"TimeWindow_{i}_{j}_{k}\"\n",
    "\n",
    "    for i in range(1, N + 1):  # skip depot\n",
    "        vrptw_model += (time_windows[i][0] <= s[i, k]), f\"TimeWindowStart_{i}_{k}\"\n",
    "        vrptw_model += (s[i, k] <= time_windows[i][1]), f\"TimeWindowEnd_{i}_{k}\"\n"
   ]
  },
  {
   "cell_type": "markdown",
   "metadata": {},
   "source": [
    "---"
   ]
  },
  {
   "cell_type": "markdown",
   "metadata": {},
   "source": [
    "## Exact method"
   ]
  },
  {
   "cell_type": "code",
   "execution_count": 83,
   "metadata": {},
   "outputs": [
    {
     "name": "stdout",
     "output_type": "stream",
     "text": [
      "Welcome to the CBC MILP Solver \n",
      "Version: 2.10.3 \n",
      "Build Date: Dec 15 2019 \n",
      "\n",
      "command line - /home/cuphead/Projects/VRPTW-Meta-Heuristique/venv/lib/python3.10/site-packages/pulp/solverdir/cbc/linux/64/cbc /tmp/bb9223242daf4682bc5d603d92627365-pulp.mps -timeMode elapsed -branch -printingOptions all -solution /tmp/bb9223242daf4682bc5d603d92627365-pulp.sol (default strategy 1)\n",
      "At line 2 NAME          MODEL\n",
      "At line 3 ROWS\n",
      "At line 283 COLUMNS\n",
      "At line 2570 RHS\n",
      "At line 2849 BOUNDS\n",
      "At line 3092 ENDATA\n",
      "Problem MODEL has 278 rows, 264 columns and 1560 elements\n",
      "Coin0008I MODEL read with 0 errors\n",
      "Option for timeMode changed from cpu to elapsed\n",
      "Continuous objective value is 10 - 0.00 seconds\n",
      "Cgl0003I 10 fixed, 0 tightened bounds, 182 strengthened rows, 0 substitutions\n",
      "Cgl0003I 0 fixed, 0 tightened bounds, 172 strengthened rows, 0 substitutions\n",
      "Cgl0003I 0 fixed, 0 tightened bounds, 172 strengthened rows, 0 substitutions\n",
      "Cgl0003I 0 fixed, 0 tightened bounds, 172 strengthened rows, 0 substitutions\n",
      "Cgl0003I 0 fixed, 0 tightened bounds, 172 strengthened rows, 0 substitutions\n",
      "Cgl0003I 0 fixed, 0 tightened bounds, 172 strengthened rows, 0 substitutions\n",
      "Cgl0003I 0 fixed, 0 tightened bounds, 172 strengthened rows, 0 substitutions\n",
      "Cgl0003I 0 fixed, 0 tightened bounds, 172 strengthened rows, 0 substitutions\n",
      "Cgl0003I 0 fixed, 0 tightened bounds, 172 strengthened rows, 0 substitutions\n",
      "Cgl0003I 0 fixed, 0 tightened bounds, 169 strengthened rows, 0 substitutions\n",
      "Cgl0004I processed model has 210 rows, 248 columns (228 integer (228 of which binary)) and 3097 elements\n",
      "Cutoff increment increased from 1e-05 to 0.9999\n",
      "Cbc0038I Initial state - 2 integers unsatisfied sum - 0.4\n",
      "Cbc0038I Pass   1: suminf.    0.40000 (2) obj. 10 iterations 24\n",
      "Cbc0038I Solution found of 10\n",
      "Cbc0038I Relaxing continuous gives 10\n",
      "Cbc0038I Before mini branch and bound, 226 integers at bound fixed and 20 continuous\n",
      "Cbc0038I Mini branch and bound did not improve solution (0.12 seconds)\n",
      "Cbc0038I Freeing continuous variables gives a solution of 10\n",
      "Cbc0038I After 0.12 seconds - Feasibility pump exiting with objective of 10 - took 0.00 seconds\n",
      "Cbc0012I Integer solution of 10 found by feasibility pump after 0 iterations and 0 nodes (0.12 seconds)\n",
      "Cbc0001I Search completed - best objective 10, took 0 iterations and 0 nodes (0.12 seconds)\n",
      "Cbc0035I Maximum depth 0, 0 variables fixed on reduced cost\n",
      "Cuts at root node changed objective from 10 to 10\n",
      "Probing was tried 0 times and created 0 cuts of which 0 were active after adding rounds of cuts (0.000 seconds)\n",
      "Gomory was tried 0 times and created 0 cuts of which 0 were active after adding rounds of cuts (0.000 seconds)\n",
      "Knapsack was tried 0 times and created 0 cuts of which 0 were active after adding rounds of cuts (0.000 seconds)\n",
      "Clique was tried 0 times and created 0 cuts of which 0 were active after adding rounds of cuts (0.000 seconds)\n",
      "MixedIntegerRounding2 was tried 0 times and created 0 cuts of which 0 were active after adding rounds of cuts (0.000 seconds)\n",
      "FlowCover was tried 0 times and created 0 cuts of which 0 were active after adding rounds of cuts (0.000 seconds)\n",
      "TwoMirCuts was tried 0 times and created 0 cuts of which 0 were active after adding rounds of cuts (0.000 seconds)\n",
      "ZeroHalf was tried 0 times and created 0 cuts of which 0 were active after adding rounds of cuts (0.000 seconds)\n",
      "\n",
      "Result - Optimal solution found\n",
      "\n",
      "Objective value:                10.00000000\n",
      "Enumerated nodes:               0\n",
      "Total iterations:               0\n",
      "Time (CPU seconds):             0.12\n",
      "Time (Wallclock seconds):       0.12\n",
      "\n",
      "Option for printingOptions changed from normal to all\n",
      "Total time (CPU seconds):       0.12   (Wallclock seconds):       0.12\n",
      "\n"
     ]
    },
    {
     "data": {
      "text/plain": [
       "1"
      ]
     },
     "execution_count": 83,
     "metadata": {},
     "output_type": "execute_result"
    }
   ],
   "source": [
    "vrptw_model.solve()"
   ]
  },
  {
   "cell_type": "code",
   "execution_count": 85,
   "metadata": {},
   "outputs": [
    {
     "name": "stdout",
     "output_type": "stream",
     "text": [
      "Optimal solution found with total cost: 10.0\n",
      "Routes: [[0, 4, 0], [0, 5, 0]]\n"
     ]
    }
   ],
   "source": [
    "if vrptw_model.status == pl.LpStatusOptimal:\n",
    "    print(\"Optimal solution found with total cost:\", pl.value(vrptw_model.objective))\n",
    "    routes = []\n",
    "    for k in range(num_camions):\n",
    "        route = [0]  # Start at depot\n",
    "        current_location = 0\n",
    "        while True:\n",
    "            next_location = None\n",
    "            for j in range(N + 1):\n",
    "                if pl.value(x[current_location, j, k]) == 1:\n",
    "                    route.append(j)\n",
    "                    next_location = j\n",
    "                    break\n",
    "            if next_location == 0 or next_location is None:\n",
    "                break\n",
    "            current_location = next_location\n",
    "        routes.append(route)\n",
    "    print(\"Routes:\", routes)\n",
    "else:\n",
    "    print(\"No optimal solution found.\")"
   ]
  },
  {
   "cell_type": "markdown",
   "metadata": {},
   "source": [
    "---"
   ]
  },
  {
   "cell_type": "markdown",
   "metadata": {},
   "source": [
    "## Meta-heuristique"
   ]
  },
  {
   "cell_type": "code",
   "execution_count": null,
   "metadata": {},
   "outputs": [],
   "source": []
  },
  {
   "cell_type": "code",
   "execution_count": 65,
   "metadata": {},
   "outputs": [
    {
     "name": "stdout",
     "output_type": "stream",
     "text": [
      "Meilleure solution: [[0, 1, 2, 3, 8, 0], [0, 5, 6, 7, 4, 9, 0]]\n",
      "Coût total: 57\n"
     ]
    }
   ],
   "source": [
    "depot = 0  # Dépôt\n",
    "\n",
    "# Paramètres du Recuit Simulé\n",
    "initial_temperature = 1000\n",
    "cooling_rate = 0.95\n",
    "stopping_temperature = 1e-8\n",
    "max_iterations = 1000\n",
    "\n",
    "# Fonction de coût\n",
    "def calculate_cost(solution):\n",
    "    total_cost = 0\n",
    "    for route in solution:\n",
    "        route_cost = 0\n",
    "        for i in range(len(route) - 1):\n",
    "            route_cost += costs[route[i]][route[i + 1]]\n",
    "        total_cost += route_cost\n",
    "    return total_cost\n",
    "\n",
    "# Fonction pour générer une solution initiale\n",
    "def generate_initial_solution():\n",
    "    solution = []\n",
    "    nodes = list(range(1, N + 1))\n",
    "    for _ in range(num_camions):\n",
    "        route = [depot]\n",
    "        load = 0\n",
    "        while nodes and load + demands[nodes[0]] <= capacity_camion:\n",
    "            node = nodes.pop(0)\n",
    "            route.append(node)\n",
    "            load += demands[node]\n",
    "        route.append(depot)\n",
    "        solution.append(route)\n",
    "    return solution\n",
    "\n",
    "# Fonction pour générer une solution voisine\n",
    "def generate_neighbor(solution):\n",
    "    neighbor = [route[:] for route in solution]\n",
    "    i, j = random.randint(0, num_camions - 1), random.randint(1, len(neighbor[0]) - 2)\n",
    "    if neighbor[i][j] != depot:\n",
    "        neighbor[i][j], neighbor[(i + 1) % num_camions][j] = neighbor[(i + 1) % num_camions][j], neighbor[i][j]\n",
    "    return neighbor\n",
    "\n",
    "# Fonction pour exécuter le Recuit Simulé\n",
    "def simulated_annealing():\n",
    "    current_solution = generate_initial_solution()\n",
    "    current_cost = calculate_cost(current_solution)\n",
    "    best_solution = current_solution\n",
    "    best_cost = current_cost\n",
    "    temperature = initial_temperature\n",
    "\n",
    "    while temperature > stopping_temperature:\n",
    "        for _ in range(max_iterations):\n",
    "            neighbor = generate_neighbor(current_solution)\n",
    "            neighbor_cost = calculate_cost(neighbor)\n",
    "            cost_diff = neighbor_cost - current_cost\n",
    "\n",
    "            if cost_diff < 0 or np.exp(-cost_diff / temperature) > random.random():\n",
    "                current_solution = neighbor\n",
    "                current_cost = neighbor_cost\n",
    "                if current_cost < best_cost:\n",
    "                    best_solution = current_solution\n",
    "                    best_cost = current_cost\n",
    "\n",
    "        temperature *= cooling_rate\n",
    "    return best_solution, best_cost\n",
    "\n",
    "# Exécution de l'algorithme\n",
    "best_solution, best_cost = simulated_annealing()\n",
    "print(\"Meilleure solution:\", best_solution)\n",
    "print(\"Coût total:\", best_cost)"
   ]
  }
 ],
 "metadata": {
  "kernelspec": {
   "display_name": "venv",
   "language": "python",
   "name": "python3"
  },
  "language_info": {
   "codemirror_mode": {
    "name": "ipython",
    "version": 3
   },
   "file_extension": ".py",
   "mimetype": "text/x-python",
   "name": "python",
   "nbconvert_exporter": "python",
   "pygments_lexer": "ipython3",
   "version": "3.10.12"
  }
 },
 "nbformat": 4,
 "nbformat_minor": 2
}
