{
 "cells": [
  {
   "cell_type": "markdown",
   "metadata": {},
   "source": [
    "## Libraries"
   ]
  },
  {
   "cell_type": "code",
   "execution_count": 27,
   "metadata": {},
   "outputs": [],
   "source": [
    "import pulp as lp\n",
    "import random"
   ]
  },
  {
   "cell_type": "markdown",
   "metadata": {},
   "source": [
    "## Src"
   ]
  },
  {
   "cell_type": "code",
   "execution_count": 28,
   "metadata": {},
   "outputs": [],
   "source": [
    "def generate_vrptw_parameters(\n",
    "    num_vehicles,\n",
    "    num_customers,\n",
    "    cost_range=(10, 50),\n",
    "    time_range=(5, 30),\n",
    "    demand_range=(5, 15),\n",
    "    capacity=20,\n",
    "    time_window_range=(0, 50),\n",
    "    large_constant=1000,\n",
    "):\n",
    "    \"\"\"\n",
    "    Generates random VRPTW parameters for a given number of vehicles and customers.\n",
    "\n",
    "    Parameters:\n",
    "    - num_vehicles (int): Number of vehicles.\n",
    "    - num_customers (int): Number of customers (not including depots).\n",
    "    - cost_range (tuple): Range for travel costs between nodes.\n",
    "    - time_range (tuple): Range for travel times between nodes.\n",
    "    - demand_range (tuple): Range for customer demands.\n",
    "    - capacity (int): Capacity of each vehicle.\n",
    "    - time_window_range (tuple): Range for time windows (start and end times).\n",
    "    - large_constant (int): Large constant for constraints.\n",
    "\n",
    "    Returns:\n",
    "    - dict: A dictionary containing all sets and parameters.\n",
    "    \"\"\"\n",
    "    # Sets\n",
    "    V = list(range(1, num_vehicles + 1))  # Vehicles labeled from 1 to num_vehicles\n",
    "    N = list(\n",
    "        range(num_customers + 2)\n",
    "    )  # Nodes labeled from 0 to num_customers+1 (including depots)\n",
    "    C = list(range(1, num_customers + 1))  # Customers labeled from 1 to num_customers\n",
    "\n",
    "    # Parameters\n",
    "    cij = {(i, j): random.randint(*cost_range) for i in N for j in N if i != j}\n",
    "    tij = {(i, j): random.randint(*time_range) for i in N for j in N if i != j}\n",
    "    di = {i: random.randint(*demand_range) for i in C}  # Customer demands\n",
    "    q = capacity  # Vehicle capacity\n",
    "    a = {i: random.randint(*time_window_range) for i in N}  # Start of time window\n",
    "    b = {\n",
    "        i: random.randint(a[i] + 1, time_window_range[1]) for i in N\n",
    "    }  # End of time window, after start time\n",
    "    K = large_constant  # Large constant for time window constraints\n",
    "\n",
    "    # Ensuring depot time windows\n",
    "    a[0], b[0] = 0, time_window_range[1]  # Starting depot time window\n",
    "    a[num_customers + 1], b[num_customers + 1] = (\n",
    "        0,\n",
    "        time_window_range[1],\n",
    "    )  # Returning depot time window\n",
    "\n",
    "    return {\n",
    "        \"V\": V,\n",
    "        \"N\": N,\n",
    "        \"C\": C,\n",
    "        \"cij\": cij,\n",
    "        \"tij\": tij,\n",
    "        \"di\": di,\n",
    "        \"q\": q,\n",
    "        \"a\": a,\n",
    "        \"b\": b,\n",
    "        \"K\": K,\n",
    "    }"
   ]
  },
  {
   "cell_type": "markdown",
   "metadata": {},
   "source": [
    "## Constants"
   ]
  },
  {
   "cell_type": "code",
   "execution_count": 29,
   "metadata": {},
   "outputs": [
    {
     "name": "stdout",
     "output_type": "stream",
     "text": [
      "{'V': [1, 2], 'N': [0, 1, 2, 3], 'C': [1, 2], 'cij': {(0, 1): 25, (0, 2): 45, (0, 3): 35, (1, 0): 33, (1, 2): 48, (1, 3): 30, (2, 0): 42, (2, 1): 47, (2, 3): 30, (3, 0): 36, (3, 1): 16, (3, 2): 39}, 'tij': {(0, 1): 6, (0, 2): 15, (0, 3): 24, (1, 0): 26, (1, 2): 18, (1, 3): 19, (2, 0): 5, (2, 1): 9, (2, 3): 10, (3, 0): 20, (3, 1): 12, (3, 2): 16}, 'di': {1: 13, 2: 12}, 'q': 20, 'a': {0: 0, 1: 23, 2: 26, 3: 0}, 'b': {0: 50, 1: 27, 2: 35, 3: 50}, 'K': 1000}\n"
     ]
    }
   ],
   "source": [
    "n = 2  # num of customers\n",
    "num_vehicles = 2\n",
    "parameters = generate_vrptw_parameters(num_vehicles=num_vehicles, num_customers=n)\n",
    "print(parameters)\n",
    "V, N, C, cij, tij, di, q, a, b, K = parameters.values()"
   ]
  },
  {
   "cell_type": "code",
   "execution_count": 30,
   "metadata": {},
   "outputs": [],
   "source": [
    "# for i in N:\n",
    "#     a[i], b[i] = 0, 100"
   ]
  },
  {
   "cell_type": "code",
   "execution_count": 31,
   "metadata": {},
   "outputs": [
    {
     "name": "stdout",
     "output_type": "stream",
     "text": [
      "{0: 0, 1: 23, 2: 26, 3: 0}\n",
      "{0: 50, 1: 27, 2: 35, 3: 50}\n"
     ]
    }
   ],
   "source": [
    "print(a)\n",
    "print(b)"
   ]
  },
  {
   "cell_type": "markdown",
   "metadata": {},
   "source": [
    "Modèle de minimisation de coût"
   ]
  },
  {
   "cell_type": "code",
   "execution_count": 32,
   "metadata": {},
   "outputs": [],
   "source": [
    "problem = lp.LpProblem(\"VRPTW\", lp.LpMinimize)"
   ]
  },
  {
   "cell_type": "markdown",
   "metadata": {},
   "source": [
    "Dicision variables"
   ]
  },
  {
   "cell_type": "code",
   "execution_count": 33,
   "metadata": {},
   "outputs": [],
   "source": [
    "x = lp.LpVariable.dicts(\"x\", ((k, i, j) for k in V for i in N for j in N if i != j), cat='Binary')\n",
    "s = lp.LpVariable.dicts(\"s\", ((i, k) for i in N for k in V), lowBound=0, cat='Continuous')"
   ]
  },
  {
   "cell_type": "markdown",
   "metadata": {},
   "source": [
    "Objective function"
   ]
  },
  {
   "cell_type": "code",
   "execution_count": 34,
   "metadata": {},
   "outputs": [],
   "source": [
    "problem += lp.lpSum(cij[i, j] * x[k, i, j] for k in V for i in N for j in N if i != j)"
   ]
  },
  {
   "cell_type": "markdown",
   "metadata": {},
   "source": [
    "## Constraints"
   ]
  },
  {
   "cell_type": "markdown",
   "metadata": {},
   "source": [
    "Each customer is visited exactly once"
   ]
  },
  {
   "cell_type": "code",
   "execution_count": 35,
   "metadata": {},
   "outputs": [],
   "source": [
    "for i in C:\n",
    "    problem += lp.lpSum(x[k, i, j] for k in V for j in N if i != j) == 1\n"
   ]
  },
  {
   "cell_type": "markdown",
   "metadata": {},
   "source": [
    "Vehicle capacity constraint"
   ]
  },
  {
   "cell_type": "code",
   "execution_count": 36,
   "metadata": {},
   "outputs": [],
   "source": [
    "\n",
    "for k in V:\n",
    "    problem += lp.lpSum(di[i] * x[k, i, j] for i in C for j in N if i != j) <= q\n"
   ]
  },
  {
   "cell_type": "markdown",
   "metadata": {},
   "source": [
    "Each vehicle starts at the depot (node 0)"
   ]
  },
  {
   "cell_type": "code",
   "execution_count": 37,
   "metadata": {},
   "outputs": [],
   "source": [
    "for k in V:\n",
    "    problem += lp.lpSum(x[k, 0, j] for j in N if j != 0) == 1"
   ]
  },
  {
   "cell_type": "markdown",
   "metadata": {},
   "source": [
    "Flow conservation for each customer"
   ]
  },
  {
   "cell_type": "code",
   "execution_count": 38,
   "metadata": {},
   "outputs": [],
   "source": [
    "for k in V:\n",
    "    for h in C:\n",
    "        problem += lp.lpSum(x[k, i, h] for i in N if i != h) == lp.lpSum(\n",
    "            x[k, h, j] for j in N if h != j\n",
    "        )\n"
   ]
  },
  {
   "cell_type": "markdown",
   "metadata": {},
   "source": [
    "Each vehicle ends at the returning depot (node n+1)"
   ]
  },
  {
   "cell_type": "code",
   "execution_count": 39,
   "metadata": {},
   "outputs": [],
   "source": [
    "for k in V:\n",
    "    problem += lp.lpSum(x[k, i, n + 1] for i in N if i != n + 1) == 1"
   ]
  },
  {
   "cell_type": "code",
   "execution_count": 40,
   "metadata": {},
   "outputs": [
    {
     "data": {
      "text/plain": [
       "VRPTW:\n",
       "MINIMIZE\n",
       "25*x_(1,_0,_1) + 45*x_(1,_0,_2) + 35*x_(1,_0,_3) + 33*x_(1,_1,_0) + 48*x_(1,_1,_2) + 30*x_(1,_1,_3) + 42*x_(1,_2,_0) + 47*x_(1,_2,_1) + 30*x_(1,_2,_3) + 36*x_(1,_3,_0) + 16*x_(1,_3,_1) + 39*x_(1,_3,_2) + 25*x_(2,_0,_1) + 45*x_(2,_0,_2) + 35*x_(2,_0,_3) + 33*x_(2,_1,_0) + 48*x_(2,_1,_2) + 30*x_(2,_1,_3) + 42*x_(2,_2,_0) + 47*x_(2,_2,_1) + 30*x_(2,_2,_3) + 36*x_(2,_3,_0) + 16*x_(2,_3,_1) + 39*x_(2,_3,_2) + 0\n",
       "SUBJECT TO\n",
       "_C1: x_(1,_1,_0) + x_(1,_1,_2) + x_(1,_1,_3) + x_(2,_1,_0) + x_(2,_1,_2)\n",
       " + x_(2,_1,_3) = 1\n",
       "\n",
       "_C2: x_(1,_2,_0) + x_(1,_2,_1) + x_(1,_2,_3) + x_(2,_2,_0) + x_(2,_2,_1)\n",
       " + x_(2,_2,_3) = 1\n",
       "\n",
       "_C3: 13 x_(1,_1,_0) + 13 x_(1,_1,_2) + 13 x_(1,_1,_3) + 12 x_(1,_2,_0)\n",
       " + 12 x_(1,_2,_1) + 12 x_(1,_2,_3) <= 20\n",
       "\n",
       "_C4: 13 x_(2,_1,_0) + 13 x_(2,_1,_2) + 13 x_(2,_1,_3) + 12 x_(2,_2,_0)\n",
       " + 12 x_(2,_2,_1) + 12 x_(2,_2,_3) <= 20\n",
       "\n",
       "_C5: x_(1,_0,_1) + x_(1,_0,_2) + x_(1,_0,_3) = 1\n",
       "\n",
       "_C6: x_(2,_0,_1) + x_(2,_0,_2) + x_(2,_0,_3) = 1\n",
       "\n",
       "_C7: x_(1,_0,_1) - x_(1,_1,_0) - x_(1,_1,_2) - x_(1,_1,_3) + x_(1,_2,_1)\n",
       " + x_(1,_3,_1) = 0\n",
       "\n",
       "_C8: x_(1,_0,_2) + x_(1,_1,_2) - x_(1,_2,_0) - x_(1,_2,_1) - x_(1,_2,_3)\n",
       " + x_(1,_3,_2) = 0\n",
       "\n",
       "_C9: x_(2,_0,_1) - x_(2,_1,_0) - x_(2,_1,_2) - x_(2,_1,_3) + x_(2,_2,_1)\n",
       " + x_(2,_3,_1) = 0\n",
       "\n",
       "_C10: x_(2,_0,_2) + x_(2,_1,_2) - x_(2,_2,_0) - x_(2,_2,_1) - x_(2,_2,_3)\n",
       " + x_(2,_3,_2) = 0\n",
       "\n",
       "_C11: x_(1,_0,_3) + x_(1,_1,_3) + x_(1,_2,_3) = 1\n",
       "\n",
       "_C12: x_(2,_0,_3) + x_(2,_1,_3) + x_(2,_2,_3) = 1\n",
       "\n",
       "VARIABLES\n",
       "0 <= x_(1,_0,_1) <= 1 Integer\n",
       "0 <= x_(1,_0,_2) <= 1 Integer\n",
       "0 <= x_(1,_0,_3) <= 1 Integer\n",
       "0 <= x_(1,_1,_0) <= 1 Integer\n",
       "0 <= x_(1,_1,_2) <= 1 Integer\n",
       "0 <= x_(1,_1,_3) <= 1 Integer\n",
       "0 <= x_(1,_2,_0) <= 1 Integer\n",
       "0 <= x_(1,_2,_1) <= 1 Integer\n",
       "0 <= x_(1,_2,_3) <= 1 Integer\n",
       "0 <= x_(1,_3,_0) <= 1 Integer\n",
       "0 <= x_(1,_3,_1) <= 1 Integer\n",
       "0 <= x_(1,_3,_2) <= 1 Integer\n",
       "0 <= x_(2,_0,_1) <= 1 Integer\n",
       "0 <= x_(2,_0,_2) <= 1 Integer\n",
       "0 <= x_(2,_0,_3) <= 1 Integer\n",
       "0 <= x_(2,_1,_0) <= 1 Integer\n",
       "0 <= x_(2,_1,_2) <= 1 Integer\n",
       "0 <= x_(2,_1,_3) <= 1 Integer\n",
       "0 <= x_(2,_2,_0) <= 1 Integer\n",
       "0 <= x_(2,_2,_1) <= 1 Integer\n",
       "0 <= x_(2,_2,_3) <= 1 Integer\n",
       "0 <= x_(2,_3,_0) <= 1 Integer\n",
       "0 <= x_(2,_3,_1) <= 1 Integer\n",
       "0 <= x_(2,_3,_2) <= 1 Integer"
      ]
     },
     "execution_count": 40,
     "metadata": {},
     "output_type": "execute_result"
    }
   ],
   "source": [
    "problem"
   ]
  },
  {
   "cell_type": "markdown",
   "metadata": {},
   "source": [
    "Time window constraint with large constant K"
   ]
  },
  {
   "cell_type": "code",
   "execution_count": 41,
   "metadata": {},
   "outputs": [],
   "source": [
    "for k in V:\n",
    "    for i in N:\n",
    "        for j in N:\n",
    "            if i != j:\n",
    "                problem += s[i, k] + tij[i, j] - K * (1 - x[k, i, j]) <= s[j, k]"
   ]
  },
  {
   "cell_type": "markdown",
   "metadata": {},
   "source": [
    "Start time must be within the time window"
   ]
  },
  {
   "cell_type": "code",
   "execution_count": 42,
   "metadata": {},
   "outputs": [],
   "source": [
    "for i in N:\n",
    "    for k in V:\n",
    "        problem += a[i] <= s[i, k]\n",
    "        problem += s[i, k] <= b[i]\n"
   ]
  },
  {
   "cell_type": "markdown",
   "metadata": {},
   "source": [
    "Binary constraint for x variables"
   ]
  },
  {
   "cell_type": "code",
   "execution_count": 43,
   "metadata": {},
   "outputs": [],
   "source": [
    "for k in V:\n",
    "    for i in N:\n",
    "        for j in N:\n",
    "            if i != j:\n",
    "                problem += x[k, i, j] >= 0\n",
    "                problem += x[k, i, j] <= 1"
   ]
  },
  {
   "cell_type": "markdown",
   "metadata": {},
   "source": [
    "## Solution"
   ]
  },
  {
   "cell_type": "code",
   "execution_count": 44,
   "metadata": {},
   "outputs": [
    {
     "name": "stdout",
     "output_type": "stream",
     "text": [
      "Welcome to the CBC MILP Solver \n",
      "Version: 2.10.3 \n",
      "Build Date: Dec 15 2019 \n",
      "\n",
      "command line - /home/cuphead/Projects/VRPTW-Meta-Heuristique/venv/lib/python3.10/site-packages/pulp/solverdir/cbc/linux/64/cbc /tmp/435632936cdd48c7bd811bd61fa48622-pulp.mps -timeMode elapsed -branch -printingOptions all -solution /tmp/435632936cdd48c7bd811bd61fa48622-pulp.sol (default strategy 1)\n",
      "At line 2 NAME          MODEL\n",
      "At line 3 ROWS\n",
      "At line 105 COLUMNS\n",
      "At line 374 RHS\n",
      "At line 475 BOUNDS\n",
      "At line 500 ENDATA\n",
      "Problem MODEL has 100 rows, 32 columns and 196 elements\n",
      "Coin0008I MODEL read with 0 errors\n",
      "Option for timeMode changed from cpu to elapsed\n",
      "Continuous objective value is 130 - 0.00 seconds\n",
      "Cgl0003I 10 fixed, 0 tightened bounds, 20 strengthened rows, 31 substitutions\n",
      "Cgl0003I 0 fixed, 0 tightened bounds, 6 strengthened rows, 23 substitutions\n",
      "Cgl0004I processed model has 0 rows, 0 columns (0 integer (0 of which binary)) and 0 elements\n",
      "Cbc3007W No integer variables - nothing to do\n",
      "Cuts at root node changed objective from 130 to -1.79769e+308\n",
      "Probing was tried 0 times and created 0 cuts of which 0 were active after adding rounds of cuts (0.000 seconds)\n",
      "Gomory was tried 0 times and created 0 cuts of which 0 were active after adding rounds of cuts (0.000 seconds)\n",
      "Knapsack was tried 0 times and created 0 cuts of which 0 were active after adding rounds of cuts (0.000 seconds)\n",
      "Clique was tried 0 times and created 0 cuts of which 0 were active after adding rounds of cuts (0.000 seconds)\n",
      "MixedIntegerRounding2 was tried 0 times and created 0 cuts of which 0 were active after adding rounds of cuts (0.000 seconds)\n",
      "FlowCover was tried 0 times and created 0 cuts of which 0 were active after adding rounds of cuts (0.000 seconds)\n",
      "TwoMirCuts was tried 0 times and created 0 cuts of which 0 were active after adding rounds of cuts (0.000 seconds)\n",
      "ZeroHalf was tried 0 times and created 0 cuts of which 0 were active after adding rounds of cuts (0.000 seconds)\n",
      "\n",
      "Result - Optimal solution found\n",
      "\n",
      "Objective value:                130.00000000\n",
      "Enumerated nodes:               0\n",
      "Total iterations:               0\n",
      "Time (CPU seconds):             0.02\n",
      "Time (Wallclock seconds):       0.02\n",
      "\n",
      "Option for printingOptions changed from normal to all\n",
      "Total time (CPU seconds):       0.02   (Wallclock seconds):       0.02\n",
      "\n",
      "s_(0,_1) = 0.0\n",
      "s_(0,_2) = 0.0\n",
      "s_(1,_1) = 23.0\n",
      "s_(1,_2) = 23.0\n",
      "s_(2,_1) = 26.0\n",
      "s_(2,_2) = 26.0\n",
      "s_(3,_1) = 50.0\n",
      "s_(3,_2) = 50.0\n",
      "x_(1,_0,_1) = 0.0\n",
      "x_(1,_0,_2) = 1.0\n",
      "x_(1,_0,_3) = 0.0\n",
      "x_(1,_1,_0) = 0.0\n",
      "x_(1,_1,_2) = 0.0\n",
      "x_(1,_1,_3) = 0.0\n",
      "x_(1,_2,_0) = 0.0\n",
      "x_(1,_2,_1) = 0.0\n",
      "x_(1,_2,_3) = 1.0\n",
      "x_(1,_3,_0) = 0.0\n",
      "x_(1,_3,_1) = 0.0\n",
      "x_(1,_3,_2) = 0.0\n",
      "x_(2,_0,_1) = 1.0\n",
      "x_(2,_0,_2) = 0.0\n",
      "x_(2,_0,_3) = 0.0\n",
      "x_(2,_1,_0) = 0.0\n",
      "x_(2,_1,_2) = 0.0\n",
      "x_(2,_1,_3) = 1.0\n",
      "x_(2,_2,_0) = 0.0\n",
      "x_(2,_2,_1) = 0.0\n",
      "x_(2,_2,_3) = 0.0\n",
      "x_(2,_3,_0) = 0.0\n",
      "x_(2,_3,_1) = 0.0\n",
      "x_(2,_3,_2) = 0.0\n",
      "Solution Status: Optimal\n",
      "Objective value: 130.0\n"
     ]
    }
   ],
   "source": [
    "problem.solve()\n",
    "\n",
    "for var in problem.variables():\n",
    "    print(f\"{var.name} = {var.varValue}\")\n",
    "\n",
    "print(\"Solution Status:\", lp.LpStatus[problem.status])\n",
    "print(\"Objective value:\", lp.value(problem.objective))"
   ]
  },
  {
   "cell_type": "markdown",
   "metadata": {},
   "source": [
    "Get the routes for each vehicle"
   ]
  },
  {
   "cell_type": "code",
   "execution_count": 45,
   "metadata": {},
   "outputs": [],
   "source": [
    "# sol_var = {}\n",
    "# for k in V:\n",
    "#     for i in N:\n",
    "#         for j in N:\n",
    "#             if i!=j:\n",
    "#                 sol_var[(k, i, j)] = lp.value(x[k, i, j])"
   ]
  },
  {
   "cell_type": "code",
   "execution_count": 51,
   "metadata": {},
   "outputs": [
    {
     "name": "stdout",
     "output_type": "stream",
     "text": [
      "j:2, k:1, current node:0\n",
      "j:3, k:1, current node:2\n",
      "j:1, k:2, current node:0\n",
      "j:3, k:2, current node:1\n"
     ]
    }
   ],
   "source": [
    "routes = {k: [] for k in V} \n",
    "\n",
    "for k in V:\n",
    "    current_node = 0  # Start from the depot (node 0)\n",
    "    while (\n",
    "        current_node != n + 1\n",
    "    ):  # Continue until reaching the returning depot (node n+1)\n",
    "        for j in N:\n",
    "            #if current_node != j and sol_var[k, current_node, j] == 1:\n",
    "            if current_node != j and lp.value(x[k, current_node, j]) == 1:\n",
    "                print(f\"j:{j}, k:{k}, current node:{current_node}\")\n",
    "                routes[k].append((current_node, j))\n",
    "                current_node = j\n",
    "                break"
   ]
  },
  {
   "cell_type": "markdown",
   "metadata": {},
   "source": [
    "Print the routes"
   ]
  },
  {
   "cell_type": "code",
   "execution_count": 47,
   "metadata": {},
   "outputs": [
    {
     "name": "stdout",
     "output_type": "stream",
     "text": [
      "Route for vehicle 1: 0 -> 2 -> 3\n",
      "Route for vehicle 2: 0 -> 1 -> 3\n"
     ]
    }
   ],
   "source": [
    "for k in V:\n",
    "    route_str = \" -> \".join(str(node) for node, _ in routes[k]) + f\" -> {n + 1}\"\n",
    "    print(f\"Route for vehicle {k}: {route_str}\")"
   ]
  },
  {
   "cell_type": "markdown",
   "metadata": {},
   "source": [
    "**Note:** is 0 (n+1 and 0 are bothe the depot)"
   ]
  },
  {
   "cell_type": "markdown",
   "metadata": {},
   "source": [
    "Display service start times for each customer"
   ]
  },
  {
   "cell_type": "code",
   "execution_count": 48,
   "metadata": {},
   "outputs": [
    {
     "name": "stdout",
     "output_type": "stream",
     "text": [
      "\n",
      "Service start times for vehicle 1:\n",
      "  Customer 1: Start time = 23.00\n",
      "  Customer 2: Start time = 26.00\n",
      "  Customer 3: Start time = 50.00\n",
      "\n",
      "Service start times for vehicle 2:\n",
      "  Customer 1: Start time = 23.00\n",
      "  Customer 2: Start time = 26.00\n",
      "  Customer 3: Start time = 50.00\n"
     ]
    }
   ],
   "source": [
    "for k in V:\n",
    "    print(f\"\\nService start times for vehicle {k}:\")\n",
    "    for i in N:\n",
    "        start_time = lp.value(s[i, k])\n",
    "        if (\n",
    "            start_time is not None and start_time > 0\n",
    "        ):  # Only print if the vehicle visits the customer\n",
    "            print(f\"  Customer {i}: Start time = {start_time:.2f}\")"
   ]
  }
 ],
 "metadata": {
  "kernelspec": {
   "display_name": "venv",
   "language": "python",
   "name": "python3"
  },
  "language_info": {
   "codemirror_mode": {
    "name": "ipython",
    "version": 3
   },
   "file_extension": ".py",
   "mimetype": "text/x-python",
   "name": "python",
   "nbconvert_exporter": "python",
   "pygments_lexer": "ipython3",
   "version": "3.10.12"
  }
 },
 "nbformat": 4,
 "nbformat_minor": 2
}
