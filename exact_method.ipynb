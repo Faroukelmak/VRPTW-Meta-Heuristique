{
 "cells": [
  {
   "cell_type": "markdown",
   "metadata": {},
   "source": [
    "## Libraries"
   ]
  },
  {
   "cell_type": "code",
   "execution_count": 83,
   "metadata": {},
   "outputs": [],
   "source": [
    "import numpy as np\n",
    "import pulp as pl\n",
    "import random"
   ]
  },
  {
   "cell_type": "markdown",
   "metadata": {},
   "source": [
    "## Src"
   ]
  },
  {
   "cell_type": "code",
   "execution_count": 84,
   "metadata": {},
   "outputs": [],
   "source": [
    "def generate_vrptw_data(\n",
    "    num_customers,\n",
    "    max_demand,\n",
    "    max_travel_time,\n",
    "    max_service_time,\n",
    "    max_time_window,\n",
    "    max_cost,\n",
    "    random_seed=None,\n",
    "):\n",
    "    if random_seed is not None:\n",
    "        random.seed(random_seed)\n",
    "        np.random.seed(random_seed)\n",
    "\n",
    "    demands = np.array(\n",
    "        [0] + [random.randint(1, max_demand) for _ in range(num_customers)]\n",
    "    )\n",
    "\n",
    "    travel_times = np.zeros((num_customers + 1, num_customers + 1), dtype=int)\n",
    "    for i in range(num_customers + 1):\n",
    "        for j in range(i + 1, num_customers + 1):\n",
    "            travel_times[i, j] = travel_times[j, i] = random.randint(1, max_travel_time)\n",
    "\n",
    "    costs = np.zeros((num_customers + 1, num_customers + 1), dtype=int)\n",
    "    for i in range(num_customers + 1):\n",
    "        for j in range(i + 1, num_customers + 1):\n",
    "            costs[i, j] = costs[j, i] = random.randint(1, max_cost)\n",
    "\n",
    "    time_windows = np.array(\n",
    "        [(0, max_time_window)]\n",
    "        + [\n",
    "            (\n",
    "                random.randint(0, max_time_window // 2),\n",
    "                random.randint(max_time_window // 2, max_time_window),\n",
    "            )\n",
    "            for _ in range(num_customers)\n",
    "        ]\n",
    "    )\n",
    "\n",
    "    service_times = np.array(\n",
    "        [0] + [random.randint(1, max_service_time) for _ in range(num_customers)]\n",
    "    )\n",
    "\n",
    "    return demands, travel_times, costs, time_windows, service_times"
   ]
  },
  {
   "cell_type": "markdown",
   "metadata": {},
   "source": [
    "## Constants"
   ]
  },
  {
   "cell_type": "code",
   "execution_count": 85,
   "metadata": {},
   "outputs": [
    {
     "name": "stdout",
     "output_type": "stream",
     "text": [
      "Demands: [0 1 1 3 2 2 2 1 5 1 5]\n",
      "Travel Times:\n",
      " [[ 0 14  2  1  3  7  8 17 20  1 18]\n",
      " [14  0  7 23 21 23 18 14  8 15 19]\n",
      " [ 2  7  0  9 26 28  1 25 26  6 23]\n",
      " [ 1 23  9  0 14 11  9  5  7 25 11]\n",
      " [ 3 21 26 14  0  4  3 13  4 12 28]\n",
      " [ 7 23 28 11  4  0 12 20  9 26  2]\n",
      " [ 8 18  1  9  3 12  0 24 15 18  4]\n",
      " [17 14 25  5 13 20 24  0 30 13  3]\n",
      " [20  8 26  7  4  9 15 30  0 18 10]\n",
      " [ 1 15  6 25 12 26 18 13 18  0 27]\n",
      " [18 19 23 11 28  2  4  3 10 27  0]]\n",
      "Costs:\n",
      " [[ 0 41 40 24 37 13 46  5  3 43 15]\n",
      " [41  0 50 19  6 15  7 25 18 30 41]\n",
      " [40 50  0 24 11 24 23 14 43 18 45]\n",
      " [24 19 24  0 44 42  5 39 41 11 35]\n",
      " [37  6 11 44  0 47 16 11 30 25 18]\n",
      " [13 15 24 42 47  0 41 45 36 15 44]\n",
      " [46  7 23  5 16 41  0 21 50 50  4]\n",
      " [ 5 25 14 39 11 45 21  0 15  3 21]\n",
      " [ 3 18 43 41 30 36 50 15  0 26 18]\n",
      " [43 30 18 11 25 15 50  3 26  0  5]\n",
      " [15 41 45 35 18 44  4 21 18  5  0]]\n",
      "Time Windows: [[  0 100]\n",
      " [ 13  86]\n",
      " [ 45  70]\n",
      " [ 13  91]\n",
      " [ 31  75]\n",
      " [ 41  79]\n",
      " [  9  66]\n",
      " [  8  65]\n",
      " [ 47  85]\n",
      " [ 34  66]\n",
      " [ 47  87]]\n",
      "Service Times: [ 0  7 15 10  7  6  4  3  9  8  2]\n"
     ]
    }
   ],
   "source": [
    "max_demand = 5\n",
    "max_travel_time = 30\n",
    "max_service_time = 15\n",
    "max_time_window = 100\n",
    "N = 10  # Nombre de points de collecte (sans compter le dépôt)\n",
    "num_camions = 2\n",
    "camion_capacity = 15\n",
    "max_cost = 50\n",
    "\n",
    "demands, travel_times, costs, time_windows, service_times = generate_vrptw_data(\n",
    "    N,\n",
    "    max_demand,\n",
    "    max_travel_time,\n",
    "    max_service_time,\n",
    "    max_time_window,\n",
    "    max_cost,\n",
    "    random_seed=42\n",
    ")\n",
    "print(\"Demands:\", demands)\n",
    "print(\"Travel Times:\\n\", travel_times)\n",
    "print(\"Costs:\\n\", costs)\n",
    "print(\"Time Windows:\", time_windows)\n",
    "print(\"Service Times:\", service_times)"
   ]
  },
  {
   "cell_type": "markdown",
   "metadata": {},
   "source": [
    "Modèle de minimisation de coût"
   ]
  },
  {
   "cell_type": "code",
   "execution_count": 86,
   "metadata": {},
   "outputs": [],
   "source": [
    "vrptw_model = pl.LpProblem(\"Optimisation_Collecte_Dechets\", pl.LpMinimize)"
   ]
  },
  {
   "cell_type": "markdown",
   "metadata": {},
   "source": [
    "Variables de décision"
   ]
  },
  {
   "cell_type": "code",
   "execution_count": 87,
   "metadata": {},
   "outputs": [],
   "source": [
    "x = pl.LpVariable.dicts(\n",
    "    \"x\",\n",
    "    ((i, j, k) for i in range(N + 1) for j in range(N + 1) for k in range(num_camions)),\n",
    "    cat=\"Binary\",\n",
    ")\n",
    "s = pl.LpVariable.dicts(\n",
    "    \"s\",\n",
    "    ((i, k) for i in range(N + 1) for k in range(num_camions)),\n",
    "    lowBound=0,\n",
    "    cat=\"Continuous\",\n",
    ")"
   ]
  },
  {
   "cell_type": "markdown",
   "metadata": {},
   "source": [
    "Fonction objectif : minimiser la distance totale parcourue"
   ]
  },
  {
   "cell_type": "code",
   "execution_count": 88,
   "metadata": {},
   "outputs": [],
   "source": [
    "vrptw_model += (\n",
    "    pl.lpSum(\n",
    "        costs[i][j] * x[i, j, k]\n",
    "        for i in range(N + 1)\n",
    "        for j in range(N + 1)\n",
    "        for k in range(num_camions)\n",
    "    ),\n",
    "    \"TotalCost\",\n",
    ")"
   ]
  },
  {
   "cell_type": "markdown",
   "metadata": {},
   "source": [
    "## constraints"
   ]
  },
  {
   "cell_type": "markdown",
   "metadata": {},
   "source": [
    "1. Each customer is visited exactly once"
   ]
  },
  {
   "cell_type": "code",
   "execution_count": 89,
   "metadata": {},
   "outputs": [],
   "source": [
    "for i in range(1, N + 1):\n",
    "    vrptw_model += (\n",
    "        pl.lpSum(\n",
    "            x[i, j, k] for j in range(N + 1) for k in range(num_camions)\n",
    "        )\n",
    "        == 1,\n",
    "        f\"VisitOnce_{i}\",\n",
    "    )"
   ]
  },
  {
   "cell_type": "code",
   "execution_count": 90,
   "metadata": {},
   "outputs": [],
   "source": [
    "for i in range(N + 1):\n",
    "    for k in range(num_camions):\n",
    "        vrptw_model += x[i, i, k] == 0, f\"NoSelfLoop_{i}_{k}\"\n"
   ]
  },
  {
   "cell_type": "markdown",
   "metadata": {},
   "source": [
    "2. Vehicle capacity constraint"
   ]
  },
  {
   "cell_type": "code",
   "execution_count": 91,
   "metadata": {},
   "outputs": [],
   "source": [
    "for k in range(num_camions):\n",
    "    vrptw_model += (\n",
    "        pl.lpSum(\n",
    "            demands[i] * x[i, j, k]\n",
    "            for i in range(N + 1)\n",
    "            for j in range(N + 1)\n",
    "        )\n",
    "        <= camion_capacity,\n",
    "        f\"Capacity_{k}\",\n",
    "    )"
   ]
  },
  {
   "cell_type": "markdown",
   "metadata": {},
   "source": [
    "3. Flow conservation constraint (leave each node after entering it)"
   ]
  },
  {
   "cell_type": "code",
   "execution_count": 92,
   "metadata": {},
   "outputs": [],
   "source": [
    "for k in range(num_camions):\n",
    "    for i in range(N + 1):\n",
    "        vrptw_model += (\n",
    "            pl.lpSum(x[i, j, k] for j in range(N + 1))\n",
    "            == pl.lpSum(x[j, i, k] for j in range(N + 1)),\n",
    "            f\"FlowConservation_{i}_{k}\",\n",
    "        )\n"
   ]
  },
  {
   "cell_type": "markdown",
   "metadata": {},
   "source": [
    "4. Start and end at the depot"
   ]
  },
  {
   "cell_type": "code",
   "execution_count": 93,
   "metadata": {},
   "outputs": [],
   "source": [
    "for k in range(num_camions):\n",
    "    vrptw_model += (\n",
    "        pl.lpSum(x[0, j, k] for j in range(1, N + 1)) == 1,\n",
    "        f\"StartAtDepot_{k}\",\n",
    "    )\n",
    "    vrptw_model += (\n",
    "        pl.lpSum(x[j, 0, k] for j in range(1, N + 1)) == 1,\n",
    "        f\"EndAtDepot_{k}\",\n",
    "    )"
   ]
  },
  {
   "cell_type": "markdown",
   "metadata": {},
   "source": [
    "5. Time window constraints"
   ]
  },
  {
   "cell_type": "code",
   "execution_count": 94,
   "metadata": {},
   "outputs": [],
   "source": [
    "for k in range(num_camions):\n",
    "    for i in range(N + 1):\n",
    "        for j in range(1, N + 1):  # skip depot as destination\n",
    "            if i != j:\n",
    "                vrptw_model += (\n",
    "                    s[i, k] + travel_times[i][j] + service_times[i] <= s[j, k] + (1 - x[i, j, k]) * 1e6\n",
    "                ), f\"TimeWindow_{i}_{j}_{k}\"\n",
    "\n",
    "    for i in range(1, N + 1):  # skip depot\n",
    "        vrptw_model += (time_windows[i][0] <= s[i, k]), f\"TimeWindowStart_{i}_{k}\"\n",
    "        vrptw_model += (s[i, k] <= time_windows[i][1]), f\"TimeWindowEnd_{i}_{k}\"\n"
   ]
  },
  {
   "cell_type": "markdown",
   "metadata": {},
   "source": [
    "---"
   ]
  },
  {
   "cell_type": "markdown",
   "metadata": {},
   "source": [
    "## Solve"
   ]
  },
  {
   "cell_type": "code",
   "execution_count": 95,
   "metadata": {},
   "outputs": [
    {
     "name": "stdout",
     "output_type": "stream",
     "text": [
      "Welcome to the CBC MILP Solver \n",
      "Version: 2.10.3 \n",
      "Build Date: Dec 15 2019 \n",
      "\n",
      "command line - /home/cuphead/Projects/VRPTW-Meta-Heuristique/venv/lib/python3.10/site-packages/pulp/solverdir/cbc/linux/64/cbc /tmp/6cf6a91ab8ab4697b259506722168fa0-pulp.mps -timeMode elapsed -branch -printingOptions all -solution /tmp/6cf6a91ab8ab4697b259506722168fa0-pulp.sol (default strategy 1)\n",
      "At line 2 NAME          MODEL\n",
      "At line 3 ROWS\n",
      "At line 305 COLUMNS\n",
      "At line 2614 RHS\n",
      "At line 2915 BOUNDS\n",
      "At line 3158 ENDATA\n",
      "Problem MODEL has 300 rows, 264 columns and 1582 elements\n",
      "Coin0008I MODEL read with 0 errors\n",
      "Option for timeMode changed from cpu to elapsed\n",
      "Continuous objective value is 88 - 0.00 seconds\n",
      "Cgl0002I 22 variables fixed\n",
      "Cgl0003I 20 fixed, 0 tightened bounds, 176 strengthened rows, 0 substitutions\n",
      "Cgl0003I 0 fixed, 0 tightened bounds, 156 strengthened rows, 0 substitutions\n",
      "Cgl0003I 0 fixed, 0 tightened bounds, 162 strengthened rows, 0 substitutions\n",
      "Cgl0003I 0 fixed, 0 tightened bounds, 162 strengthened rows, 0 substitutions\n",
      "Cgl0003I 0 fixed, 0 tightened bounds, 162 strengthened rows, 0 substitutions\n",
      "Cgl0003I 0 fixed, 0 tightened bounds, 158 strengthened rows, 0 substitutions\n",
      "Cgl0003I 0 fixed, 0 tightened bounds, 156 strengthened rows, 0 substitutions\n",
      "Cgl0003I 0 fixed, 0 tightened bounds, 149 strengthened rows, 0 substitutions\n",
      "Cgl0003I 0 fixed, 0 tightened bounds, 140 strengthened rows, 0 substitutions\n",
      "Cgl0003I 0 fixed, 0 tightened bounds, 135 strengthened rows, 0 substitutions\n",
      "Cgl0004I processed model has 201 rows, 212 columns (192 integer (192 of which binary)) and 2788 elements\n",
      "Cutoff increment increased from 1e-05 to 0.9999\n",
      "Cbc0038I Initial state - 46 integers unsatisfied sum - 11.0567\n",
      "Cbc0038I Pass   1: suminf.    3.80045 (19) obj. 258.594 iterations 209\n",
      "Cbc0038I Pass   2: suminf.    2.00019 (19) obj. 296.831 iterations 68\n",
      "Cbc0038I Pass   3: suminf.    0.00022 (9) obj. 307.002 iterations 134\n",
      "Cbc0038I Pass   4: suminf.    0.00022 (9) obj. 307.002 iterations 0\n",
      "Cbc0038I Pass   5: suminf.    5.80005 (24) obj. 355.8 iterations 123\n",
      "Cbc0038I Pass   6: suminf.    3.00012 (25) obj. 335.503 iterations 125\n",
      "Cbc0038I Pass   7: suminf.    0.00019 (19) obj. 341 iterations 122\n",
      "Cbc0038I Pass   8: suminf.    0.00019 (17) obj. 341 iterations 11\n",
      "Cbc0038I Pass   9: suminf.    0.00019 (17) obj. 341 iterations 0\n",
      "Cbc0038I Pass  10: suminf.    6.00039 (28) obj. 422.972 iterations 134\n",
      "Cbc0038I Pass  11: suminf.    0.00010 (6) obj. 398 iterations 141\n",
      "Cbc0038I Pass  12: suminf.    0.00007 (4) obj. 398 iterations 10\n",
      "Cbc0038I Pass  13: suminf.    0.00007 (4) obj. 398 iterations 0\n",
      "Cbc0038I Pass  14: suminf.    8.99994 (28) obj. 384.166 iterations 83\n",
      "Cbc0038I Pass  15: suminf.    3.50000 (10) obj. 377.25 iterations 72\n",
      "Cbc0038I Pass  16: suminf.    3.00000 (13) obj. 366.444 iterations 34\n",
      "Cbc0038I Pass  17: suminf.    0.00029 (8) obj. 354 iterations 69\n",
      "Cbc0038I Pass  18: suminf.    0.00017 (10) obj. 354 iterations 61\n",
      "Cbc0038I Pass  19: suminf.    0.00017 (10) obj. 354 iterations 0\n",
      "Cbc0038I Pass  20: suminf.    8.39169 (33) obj. 363.613 iterations 89\n",
      "Cbc0038I Pass  21: suminf.    2.99992 (15) obj. 337.5 iterations 64\n",
      "Cbc0038I Pass  22: suminf.    2.33331 (14) obj. 333.332 iterations 33\n",
      "Cbc0038I Pass  23: suminf.    2.33328 (15) obj. 333.333 iterations 58\n",
      "Cbc0038I Pass  24: suminf.    3.00012 (15) obj. 337.502 iterations 23\n",
      "Cbc0038I Pass  25: suminf.    0.00039 (26) obj. 350 iterations 98\n",
      "Cbc0038I Pass  26: suminf.    0.00031 (20) obj. 350.001 iterations 46\n",
      "Cbc0038I Pass  27: suminf.    0.00031 (20) obj. 350.001 iterations 0\n",
      "Cbc0038I Pass  28: suminf.    6.00013 (21) obj. 322.161 iterations 67\n",
      "Cbc0038I Pass  29: suminf.    0.00055 (9) obj. 289.006 iterations 69\n",
      "Cbc0038I Pass  30: suminf.    0.00024 (17) obj. 289.002 iterations 91\n",
      "Cbc0038I No solution found this major pass\n",
      "Cbc0038I Before mini branch and bound, 38 integers at bound fixed and 1 continuous\n",
      "Cbc0038I Full problem 201 rows 212 columns, reduced to 201 rows 172 columns - too large\n",
      "Cbc0038I Mini branch and bound did not improve solution (0.31 seconds)\n",
      "Cbc0038I Full problem 202 rows 212 columns, reduced to 202 rows 212 columns - too large\n",
      "Cbc0038I After 0.33 seconds - Feasibility pump exiting - took 0.10 seconds\n",
      "Cbc0031I 38 added rows had average density of 11.210526\n",
      "Cbc0013I At root node, 38 cuts changed objective from 121.99806 to 128.99954 in 19 passes\n",
      "Cbc0014I Cut generator 0 (Probing) - 285 row cuts average 9.5 elements, 0 column cuts (0 active)  in 0.038 seconds - new frequency is 1\n",
      "Cbc0014I Cut generator 1 (Gomory) - 1 row cuts average 24.0 elements, 0 column cuts (0 active)  in 0.012 seconds - new frequency is -100\n",
      "Cbc0014I Cut generator 2 (Knapsack) - 45 row cuts average 9.8 elements, 0 column cuts (0 active)  in 0.010 seconds - new frequency is 1\n",
      "Cbc0014I Cut generator 3 (Clique) - 0 row cuts average 0.0 elements, 0 column cuts (0 active)  in 0.001 seconds - new frequency is -100\n",
      "Cbc0014I Cut generator 4 (MixedIntegerRounding2) - 77 row cuts average 5.9 elements, 0 column cuts (0 active)  in 0.010 seconds - new frequency is 1\n",
      "Cbc0014I Cut generator 5 (FlowCover) - 51 row cuts average 4.9 elements, 0 column cuts (0 active)  in 0.007 seconds - new frequency is 1\n",
      "Cbc0014I Cut generator 6 (TwoMirCuts) - 55 row cuts average 150.1 elements, 0 column cuts (0 active)  in 0.012 seconds - new frequency is 1\n",
      "Cbc0010I After 0 nodes, 1 on tree, 1e+50 best solution, best possible 128.99954 (0.60 seconds)\n",
      "Cbc0016I Integer solution of 283 found by strong branching after 5521 iterations and 58 nodes (1.41 seconds)\n",
      "Cbc0038I Full problem 201 rows 212 columns, reduced to 93 rows 37 columns\n",
      "Cbc0038I Full problem 201 rows 212 columns, reduced to 98 rows 42 columns\n",
      "Cbc0038I Full problem 201 rows 212 columns, reduced to 57 rows 29 columns\n",
      "Cbc0038I Full problem 201 rows 212 columns, reduced to 100 rows 42 columns\n",
      "Cbc0016I Integer solution of 272 found by strong branching after 30809 iterations and 504 nodes (10.41 seconds)\n",
      "Cbc0016I Integer solution of 248 found by strong branching after 34092 iterations and 547 nodes (34.94 seconds)\n",
      "Cbc0016I Integer solution of 226 found by strong branching after 34662 iterations and 559 nodes (44.46 seconds)\n",
      "Cbc0038I Full problem 201 rows 212 columns, reduced to 125 rows 36 columns\n",
      "Cbc0010I After 1000 nodes, 30 on tree, 226 best solution, best possible 128.99954 (105.17 seconds)\n",
      "Cbc0004I Integer solution of 192 found after 68185 iterations and 1192 nodes (109.99 seconds)\n",
      "Cbc0038I Full problem 201 rows 212 columns, reduced to 90 rows 27 columns\n",
      "Cbc0038I Full problem 201 rows 212 columns, reduced to 124 rows 53 columns\n",
      "Cbc0038I Full problem 201 rows 212 columns, reduced to 95 rows 37 columns\n",
      "Cbc0001I Search completed - best objective 192, took 1556102 iterations and 44042 nodes (120.02 seconds)\n",
      "Cbc0032I Strong branching done 15312 times (343916 iterations), fathomed 240 nodes and fixed 375 variables\n",
      "Cbc0041I Maximum depth 31, 14320 variables fixed on reduced cost (complete fathoming 202 times, 42147 nodes taking 1440597 iterations)\n",
      "Cuts at root node changed objective from 121.998 to 129\n",
      "Probing was tried 604 times and created 7793 cuts of which 0 were active after adding rounds of cuts (0.534 seconds)\n",
      "Gomory was tried 19 times and created 1 cuts of which 0 were active after adding rounds of cuts (0.012 seconds)\n",
      "Knapsack was tried 443 times and created 366 cuts of which 0 were active after adding rounds of cuts (0.292 seconds)\n",
      "Clique was tried 19 times and created 0 cuts of which 0 were active after adding rounds of cuts (0.001 seconds)\n",
      "MixedIntegerRounding2 was tried 443 times and created 2371 cuts of which 0 were active after adding rounds of cuts (0.308 seconds)\n",
      "FlowCover was tried 443 times and created 833 cuts of which 0 were active after adding rounds of cuts (0.259 seconds)\n",
      "TwoMirCuts was tried 443 times and created 316 cuts of which 0 were active after adding rounds of cuts (0.167 seconds)\n",
      "ZeroHalf was tried 1 times and created 0 cuts of which 0 were active after adding rounds of cuts (0.002 seconds)\n",
      "ImplicationCuts was tried 208 times and created 22 cuts of which 0 were active after adding rounds of cuts (0.013 seconds)\n",
      "\n",
      "Result - Optimal solution found\n",
      "\n",
      "Objective value:                192.00000000\n",
      "Enumerated nodes:               44042\n",
      "Total iterations:               1556102\n",
      "Time (CPU seconds):             119.43\n",
      "Time (Wallclock seconds):       120.03\n",
      "\n",
      "Option for printingOptions changed from normal to all\n",
      "Total time (CPU seconds):       119.43   (Wallclock seconds):       120.04\n",
      "\n"
     ]
    },
    {
     "data": {
      "text/plain": [
       "1"
      ]
     },
     "execution_count": 95,
     "metadata": {},
     "output_type": "execute_result"
    }
   ],
   "source": [
    "vrptw_model.solve()"
   ]
  },
  {
   "cell_type": "code",
   "execution_count": 96,
   "metadata": {},
   "outputs": [
    {
     "name": "stdout",
     "output_type": "stream",
     "text": [
      "Optimal solution found with total cost: 192.0\n",
      "Routes: [[0, 7, 9, 2, 6, 10, 5, 0], [0, 3, 1, 4, 8, 0]]\n"
     ]
    }
   ],
   "source": [
    "if vrptw_model.status == pl.LpStatusOptimal:\n",
    "    print(\"Optimal solution found with total cost:\", pl.value(vrptw_model.objective))\n",
    "    routes = []\n",
    "    for k in range(num_camions):\n",
    "        route = [0]  # Start at depot\n",
    "        current_location = 0\n",
    "        while True:\n",
    "            next_location = None\n",
    "            for j in range(N + 1):\n",
    "                if pl.value(x[current_location, j, k]) == 1:\n",
    "                    route.append(j)\n",
    "                    next_location = j\n",
    "                    break\n",
    "            if next_location == 0 or next_location is None:\n",
    "                break\n",
    "            current_location = next_location\n",
    "        routes.append(route)\n",
    "    print(\"Routes:\", routes)\n",
    "else:\n",
    "    print(\"No optimal solution found.\")"
   ]
  },
  {
   "cell_type": "code",
   "execution_count": 97,
   "metadata": {},
   "outputs": [
    {
     "name": "stdout",
     "output_type": "stream",
     "text": [
      "9\n",
      "1.0\n"
     ]
    }
   ],
   "source": [
    "count = 0\n",
    "for i in range(N):\n",
    "    count += pl.value(x[i, 2, 0])\n",
    "    if count == 1: print(i)\n",
    "\n",
    "print(count)"
   ]
  },
  {
   "cell_type": "code",
   "execution_count": 98,
   "metadata": {},
   "outputs": [
    {
     "data": {
      "text/plain": [
       "0.0"
      ]
     },
     "execution_count": 98,
     "metadata": {},
     "output_type": "execute_result"
    }
   ],
   "source": [
    "pl.value(x[2,2,0])"
   ]
  },
  {
   "cell_type": "markdown",
   "metadata": {},
   "source": [
    "---"
   ]
  }
 ],
 "metadata": {
  "kernelspec": {
   "display_name": "venv",
   "language": "python",
   "name": "python3"
  },
  "language_info": {
   "codemirror_mode": {
    "name": "ipython",
    "version": 3
   },
   "file_extension": ".py",
   "mimetype": "text/x-python",
   "name": "python",
   "nbconvert_exporter": "python",
   "pygments_lexer": "ipython3",
   "version": "3.10.12"
  }
 },
 "nbformat": 4,
 "nbformat_minor": 2
}
