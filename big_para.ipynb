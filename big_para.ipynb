{
 "cells": [
  {
   "cell_type": "code",
   "execution_count": 5,
   "metadata": {},
   "outputs": [],
   "source": [
    "import numpy as np \n",
    "import pulp\n",
    "import matplotlib.pyplot as plt\n",
    "import seaborn as sns"
   ]
  },
  {
   "cell_type": "code",
   "execution_count": 6,
   "metadata": {},
   "outputs": [],
   "source": [
    "# Paramètres\n",
    "N = 40  # Nombre de points de collecte (sans compter le dépôt)\n",
    "K = 4  # Nombre de camions\n",
    "Q = 15  # Capacité des camions en tonnes\n",
    "M = 1000  # Grande constante pour les contraintes de temps\n",
    "\n"
   ]
  },
  {
   "cell_type": "code",
   "execution_count": 14,
   "metadata": {},
   "outputs": [
    {
     "data": {
      "text/plain": [
       "41"
      ]
     },
     "execution_count": 14,
     "metadata": {},
     "output_type": "execute_result"
    }
   ],
   "source": [
    "# Demandes de collecte pour chaque point (y compris le dépôt qui est 0)\n",
    "demandes = [0, 2, 4, 3, 5, 2, 3, 4, 1, 5, 2, 1, 5, 3, 3, 2, 3, 1, 2, 5, 2, 2, 1, 3, 5, 2, 5, 4, 1, 1, 2,2, 4, 3, 2, 2, 3, 1, 9, 5, 2]  # en tonnes\n",
    "early_times = [\n",
    "    0, 5, 6, 7, 8, 9, 10, 11, 12, 13, 14, \n",
    "    15, 16, 17, 18, 19, 20, 21, 22, 23, 24, \n",
    "    25, 26, 27, 28, 29, 30, 31, 32, 33, 34, \n",
    "    35, 36, 37, 38, 39, 40, 41, 42, 43,44\n",
    "]\n",
    "# print(len(early_times))\n",
    "late_times = [\n",
    "    10, 15, 16, 17, 18, 19, 20, 21, 22, 23, 24, \n",
    "    25, 26, 27, 28, 29, 30, 31, 32, 33, 34, \n",
    "    35, 36, 37, 38, 39, 40, 41, 42, 43, 44, \n",
    "    45, 46, 47, 48, 49, 50, 51, 52, 53,54\n",
    "]\n",
    "# print(len(late_times))\n",
    "service_times = [0, 1, 1, 1, 1, 1, 1,1,1,1,1, 1, 1, 1, 1, 1, 1,1,1,1,1, 1, 1, 1, 1, 1, 1,1,1,1,1, 1, 1, 1, 1, 1, 1,1,1,1,1] # temps de collecte en heures\n",
    "\n",
    "len(service_times)"
   ]
  },
  {
   "cell_type": "code",
   "execution_count": 15,
   "metadata": {},
   "outputs": [
    {
     "name": "stdout",
     "output_type": "stream",
     "text": [
      "[[ 0 13 11 ... 11 11 13]\n",
      " [13  0 13 ...  6  5  5]\n",
      " [11 13  0 ...  8 10  9]\n",
      " ...\n",
      " [11  6  8 ...  0 12 13]\n",
      " [11  5 10 ... 12  0 12]\n",
      " [13  5  9 ... 13 12  0]]\n"
     ]
    }
   ],
   "source": [
    "import numpy as np\n",
    "\n",
    "def generate_distance_matrix(num_points):\n",
    "    # Initialize a random distance matrix\n",
    "    np.random.seed(42)  # for reproducibility\n",
    "    distance_matrix = np.random.randint(5, 15, size=(num_points, num_points))\n",
    "    \n",
    "    # Make the matrix symmetric (distance from i to j is the same as from j to i)\n",
    "    for i in range(num_points):\n",
    "        for j in range(i, num_points):\n",
    "            distance_matrix[i][j] = distance_matrix[j][i]\n",
    "    \n",
    "    # Set the diagonal elements to 0 (distance from a point to itself is 0)\n",
    "    np.fill_diagonal(distance_matrix, 0)\n",
    "    \n",
    "    return distance_matrix\n",
    "\n",
    "# Example usage\n",
    "num_points = 40\n",
    "distances = generate_distance_matrix(num_points)\n",
    "\n",
    "# Print the generated distance matrix\n",
    "print(distances)\n"
   ]
  },
  {
   "cell_type": "code",
   "execution_count": 16,
   "metadata": {},
   "outputs": [],
   "source": [
    "# Modèle de minimisation de coût\n",
    "model = pulp.LpProblem(\"Optimisation_Collecte_Dechets\", pulp.LpMinimize)\n"
   ]
  },
  {
   "cell_type": "code",
   "execution_count": 17,
   "metadata": {},
   "outputs": [],
   "source": [
    "# Variables de décision\n",
    "x = pulp.LpVariable.dicts(\"x\", ((i, j, k) for i in range(N+1) for j in range(N+1) for k in range(K)), cat='Binary')\n",
    "t = pulp.LpVariable.dicts(\"t\", (i for i in range(N+1)), lowBound=0, cat='Continuous')\n"
   ]
  },
  {
   "cell_type": "code",
   "execution_count": 18,
   "metadata": {},
   "outputs": [],
   "source": [
    "# Fonction objectif : minimiser la distance totale parcourue\n",
    "model += pulp.lpSum(distances[i][j] * x[i, j, k] for i in range(N) for j in range(N) if i != j for k in range(K))\n"
   ]
  },
  {
   "cell_type": "code",
   "execution_count": 20,
   "metadata": {},
   "outputs": [],
   "source": [
    "# Contraintes\n",
    "\n",
    "# Chaque point de collecte est visité exactement une fois\n",
    "for j in range(1, N):\n",
    "    model += pulp.lpSum(x[i, j, k] for i in range(N) if i != j for k in range(K)) == 1\n",
    "\n",
    "# Contrainte de capacité pour chaque camion\n",
    "for k in range(K):\n",
    "    model += pulp.lpSum(demandes[i] * x[i, j, k] for i in range(N) for j in range(1, N) if i != j) <= Q\n",
    "\n",
    "# Contrainte de fenêtre de temps\n",
    "for i in range(1, N):\n",
    "    model += early_times[i] <= t[i]\n",
    "    model += t[i] <= late_times[i]\n",
    "\n",
    "# Temps d'arrivée doit respecter les temps de parcours\n",
    "for i in range(N):\n",
    "    for j in range(1, N):\n",
    "        if i != j:\n",
    "            for k in range(K):\n",
    "                model += t[j] >= t[i] + service_times[i] + distances[i][j] - M * (1 - x[i, j, k])\n"
   ]
  },
  {
   "cell_type": "code",
   "execution_count": 22,
   "metadata": {},
   "outputs": [
    {
     "name": "stdout",
     "output_type": "stream",
     "text": [
      "Status: Optimal\n",
      "Coût total (distance): 232.0\n",
      "\n",
      "Camion 1 :\n",
      "De 0 à 3 avec coût 14 et temps d'arrivée 14.00\n",
      "De 0 à 13 avec coût 8 et temps d'arrivée 17.00\n",
      "De 0 à 20 avec coût 5 et temps d'arrivée 24.00\n",
      "De 0 à 22 avec coût 5 et temps d'arrivée 26.00\n",
      "De 0 à 25 avec coût 5 et temps d'arrivée 29.00\n",
      "De 0 à 33 avec coût 5 et temps d'arrivée 37.00\n",
      "De 1 à 19 avec coût 5 et temps d'arrivée 23.00\n",
      "De 1 à 24 avec coût 5 et temps d'arrivée 28.00\n",
      "De 2 à 11 avec coût 5 et temps d'arrivée 25.00\n",
      "De 10 à 17 avec coût 5 et temps d'arrivée 31.00\n",
      "De 10 à 31 avec coût 5 et temps d'arrivée 35.00\n",
      "De 20 à 28 avec coût 5 et temps d'arrivée 32.00\n",
      "De 22 à 30 avec coût 5 et temps d'arrivée 44.00\n",
      "\n",
      "Camion 2 :\n",
      "De 1 à 5 avec coût 5 et temps d'arrivée 19.00\n",
      "De 1 à 10 avec coût 5 et temps d'arrivée 19.00\n",
      "De 6 à 8 avec coût 5 et temps d'arrivée 22.00\n",
      "De 8 à 37 avec coût 5 et temps d'arrivée 41.00\n",
      "De 10 à 26 avec coût 5 et temps d'arrivée 40.00\n",
      "De 11 à 35 avec coût 5 et temps d'arrivée 39.00\n",
      "De 13 à 23 avec coût 5 et temps d'arrivée 37.00\n",
      "De 22 à 21 avec coût 5 et temps d'arrivée 35.00\n",
      "\n",
      "Camion 3 :\n",
      "De 0 à 16 avec coût 5 et temps d'arrivée 20.00\n",
      "De 0 à 32 avec coût 5 et temps d'arrivée 36.00\n",
      "De 6 à 7 avec coût 6 et temps d'arrivée 21.00\n",
      "De 8 à 29 avec coût 5 et temps d'arrivée 33.00\n",
      "De 12 à 9 avec coût 6 et temps d'arrivée 23.00\n",
      "De 17 à 27 avec coût 5 et temps d'arrivée 41.00\n",
      "De 20 à 18 avec coût 5 et temps d'arrivée 32.00\n",
      "De 28 à 39 avec coût 5 et temps d'arrivée 53.00\n",
      "De 35 à 38 avec coût 5 et temps d'arrivée 52.00\n",
      "\n",
      "Camion 4 :\n",
      "De 0 à 1 avec coût 13 et temps d'arrivée 13.00\n",
      "De 0 à 2 avec coût 11 et temps d'arrivée 11.00\n",
      "De 0 à 4 avec coût 10 et temps d'arrivée 18.00\n",
      "De 0 à 6 avec coût 7 et temps d'arrivée 10.00\n",
      "De 0 à 34 avec coût 5 et temps d'arrivée 38.00\n",
      "De 3 à 15 avec coût 7 et temps d'arrivée 29.00\n",
      "De 6 à 12 avec coût 5 et temps d'arrivée 16.00\n",
      "De 16 à 14 avec coût 5 et temps d'arrivée 28.00\n",
      "De 24 à 36 avec coût 5 et temps d'arrivée 50.00\n"
     ]
    }
   ],
   "source": [
    "# Résoudre le modèle\n",
    "model.solve()\n",
    "\n",
    "# Display the results\n",
    "print(\"Status:\", pulp.LpStatus[model.status])\n",
    "print(\"Coût total (distance):\", pulp.value(model.objective))\n",
    "\n",
    "for k in range(K):\n",
    "    print(f\"\\nCamion {k + 1} :\")\n",
    "    for i in range(N):\n",
    "        for j in range(N):\n",
    "            if i != j and pulp.value(x[i, j, k]) == 1:\n",
    "                print(f\"De {i} à {j} avec coût {distances[i][j]} et temps d'arrivée {pulp.value(t[j]):.2f}\")\n"
   ]
  },
  {
   "cell_type": "code",
   "execution_count": 23,
   "metadata": {},
   "outputs": [
    {
     "name": "stdout",
     "output_type": "stream",
     "text": [
      "Meilleure solution: [[0, 5, 11, 7, 13, 0], [0, 15, 2, 3, 4, 9, 0], [0, 10, 16, 17, 8, 14, 0], [0, 1, 6, 12, 18, 19, 20, 0]]\n",
      "Coût total: 192\n"
     ]
    }
   ],
   "source": [
    "import random\n",
    "\n",
    "depot = 0  # Dépôt\n",
    "\n",
    "# Paramètres du Recuit Simulé\n",
    "initial_temperature = 1000\n",
    "cooling_rate = 0.95\n",
    "stopping_temperature = 1e-8\n",
    "max_iterations = 1000\n",
    "\n",
    "# Fonction de coût\n",
    "def calculate_cost(solution):\n",
    "    total_cost = 0\n",
    "    for route in solution:\n",
    "        route_cost = 0\n",
    "        for i in range(len(route) - 1):\n",
    "            route_cost += distances[route[i]][route[i + 1]]\n",
    "        total_cost += route_cost\n",
    "    return total_cost\n",
    "\n",
    "# Fonction pour générer une solution initiale\n",
    "def generate_initial_solution():\n",
    "    solution = []\n",
    "    nodes = list(range(1, N + 1))\n",
    "    for _ in range(K):\n",
    "        route = [depot]\n",
    "        load = 0\n",
    "        while nodes and load + demandes[nodes[0]] <= Q:\n",
    "            node = nodes.pop(0)\n",
    "            route.append(node)\n",
    "            load += demandes[node]\n",
    "        route.append(depot)\n",
    "        solution.append(route)\n",
    "    return solution\n",
    "\n",
    "# Fonction pour générer une solution voisine\n",
    "def generate_neighbor(solution):\n",
    "    neighbor = [route[:] for route in solution]\n",
    "    i, j = random.randint(0, K - 1), random.randint(1, len(neighbor[0]) - 2)\n",
    "    if neighbor[i][j] != depot:\n",
    "        neighbor[i][j], neighbor[(i + 1) % K][j] = neighbor[(i + 1) % K][j], neighbor[i][j]\n",
    "    return neighbor\n",
    "\n",
    "# Fonction pour exécuter le Recuit Simulé\n",
    "def simulated_annealing():\n",
    "    current_solution = generate_initial_solution()\n",
    "    current_cost = calculate_cost(current_solution)\n",
    "    best_solution = current_solution\n",
    "    best_cost = current_cost\n",
    "    temperature = initial_temperature\n",
    "\n",
    "    while temperature > stopping_temperature:\n",
    "        for _ in range(max_iterations):\n",
    "            neighbor = generate_neighbor(current_solution)\n",
    "            neighbor_cost = calculate_cost(neighbor)\n",
    "            cost_diff = neighbor_cost - current_cost\n",
    "\n",
    "            if cost_diff < 0 or np.exp(-cost_diff / temperature) > random.random():\n",
    "                current_solution = neighbor\n",
    "                current_cost = neighbor_cost\n",
    "                if current_cost < best_cost:\n",
    "                    best_solution = current_solution\n",
    "                    best_cost = current_cost\n",
    "\n",
    "        temperature *= cooling_rate\n",
    "    return best_solution, best_cost\n",
    "\n",
    "# Exécution de l'algorithme\n",
    "best_solution, best_cost = simulated_annealing()\n",
    "print(\"Meilleure solution:\", best_solution)\n",
    "print(\"Coût total:\", best_cost)"
   ]
  },
  {
   "cell_type": "code",
   "execution_count": null,
   "metadata": {},
   "outputs": [],
   "source": []
  }
 ],
 "metadata": {
  "kernelspec": {
   "display_name": "venv",
   "language": "python",
   "name": "python3"
  },
  "language_info": {
   "codemirror_mode": {
    "name": "ipython",
    "version": 3
   },
   "file_extension": ".py",
   "mimetype": "text/x-python",
   "name": "python",
   "nbconvert_exporter": "python",
   "pygments_lexer": "ipython3",
   "version": "3.10.11"
  }
 },
 "nbformat": 4,
 "nbformat_minor": 2
}
