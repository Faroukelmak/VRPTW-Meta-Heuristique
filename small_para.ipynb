{
 "cells": [
  {
   "cell_type": "code",
   "execution_count": 1,
   "metadata": {},
   "outputs": [],
   "source": [
    "import numpy as np \n",
    "import pulp\n",
    "import matplotlib.pyplot as plt\n",
    "import seaborn as sns"
   ]
  },
  {
   "cell_type": "code",
   "execution_count": 54,
   "metadata": {},
   "outputs": [],
   "source": [
    "# Paramètres\n",
    "N = 10  # Nombre de points de collecte (sans compter le dépôt)\n",
    "K = 2  # Nombre de camions\n",
    "Q = 15  # Capacité des camions en tonnes\n",
    "M = 1000  # Grande constante pour les contraintes de temps\n",
    "\n"
   ]
  },
  {
   "cell_type": "code",
   "execution_count": null,
   "metadata": {},
   "outputs": [],
   "source": [
    "# Demandes de collecte pour chaque point (y compris le dépôt qui est 0)\n",
    "demandes = [0,2, 4, 3, 5, 2, 3, 4, 1, 5, 2]  # en tonnes\n",
    "early_times = [0, 5, 6, 7, 8, 9, 10, 11, 12, 13, 14]  # Dépôt (index 0) et points de collecte\n",
    "late_times = [10, 8, 9, 10, 11, 12, 13, 14, 15, 16, 17]  # Fenêtre tardive pour chaque point\n",
    "service_times = [0, 1, 1, 1, 1, 1, 1,1,1,1,1]  # temps de collecte en heures"
   ]
  },
  {
   "cell_type": "code",
   "execution_count": 56,
   "metadata": {},
   "outputs": [],
   "source": [
    "# Matrice de distances entre les points (symétrique)\n",
    "distances = np.array([\n",
    "    [0, 4, 8, 10, 7, 6, 8, 9, 5, 7, 6],\n",
    "    [4, 0, 6, 8, 3, 5, 7, 6, 8, 5, 7],\n",
    "    [8, 6, 0, 5, 8, 7, 6, 9, 7, 6, 8],\n",
    "    [10, 8, 5, 0, 4, 3, 7, 8, 6, 7, 5],\n",
    "    [7, 3, 8, 4, 0, 2, 5, 6, 7, 4, 3],\n",
    "    [6, 5, 7, 3, 2, 0, 5, 6, 4, 6, 3],\n",
    "    [8, 7, 6, 7, 5, 5, 0, 3, 8, 6, 4],\n",
    "    [9, 6, 9, 8, 6, 6, 3, 0, 9, 8, 5],\n",
    "    [5, 8, 7, 6, 7, 4, 8, 9, 0, 4, 5],\n",
    "    [7, 5, 6, 7, 4, 6, 6, 8, 4, 0, 6],\n",
    "    [6, 7, 8, 5, 3, 3, 4, 5, 5, 6, 0]\n",
    "])"
   ]
  },
  {
   "cell_type": "code",
   "execution_count": 57,
   "metadata": {},
   "outputs": [],
   "source": [
    "# Modèle de minimisation de coût\n",
    "model = pulp.LpProblem(\"Optimisation_Collecte_Dechets\", pulp.LpMinimize)\n"
   ]
  },
  {
   "cell_type": "code",
   "execution_count": 58,
   "metadata": {},
   "outputs": [],
   "source": [
    "# Variables de décision\n",
    "x = pulp.LpVariable.dicts(\"x\", ((i, j, k) for i in range(N+1) for j in range(N+1) for k in range(K)), cat='Binary')\n",
    "t = pulp.LpVariable.dicts(\"t\", (i for i in range(N+1)), lowBound=0, cat='Continuous')\n"
   ]
  },
  {
   "cell_type": "code",
   "execution_count": 59,
   "metadata": {},
   "outputs": [],
   "source": [
    "# Fonction objectif : minimiser la distance totale parcourue\n",
    "model += pulp.lpSum(distances[i][j] * x[i, j, k] for i in range(N+1) for j in range(N+1) if i != j for k in range(K))\n"
   ]
  },
  {
   "cell_type": "code",
   "execution_count": null,
   "metadata": {},
   "outputs": [],
   "source": [
    "# Contraintes\n",
    "\n",
    "# Chaque point de collecte est visité exactement une fois\n",
    "for j in range(1, N+1):\n",
    "    model += pulp.lpSum(x[i, j, k] for i in range(N+1) if i != j for k in range(K)) == 1\n",
    "\n",
    "# Contrainte de capacité pour chaque camion\n",
    "for k in range(K):\n",
    "    model += pulp.lpSum(demandes[i] * x[i, j, k] for i in range(N+1) for j in range(1, N+1) if i != j) <= Q\n",
    "\n",
    "# Contrainte de fenêtre de temps\n",
    "for i in range(1, N+1):\n",
    "    model += early_times[i] <= t[i]\n",
    "    model += t[i] <= late_times[i]\n",
    "\n",
    "# Temps d'arrivée doit respecter les temps de parcours\n",
    "for i in range(N+1):\n",
    "    for j in range(1, N+1):\n",
    "        if i != j:\n",
    "            for k in range(K):\n",
    "                model += t[j] >= t[i] + service_times[i] + distances[i][j] - M * (1 - x[i, j, k])\n"
   ]
  },
  {
   "cell_type": "code",
   "execution_count": 61,
   "metadata": {},
   "outputs": [
    {
     "name": "stdout",
     "output_type": "stream",
     "text": [
      "Status: Optimal\n",
      "Coût total (distance): 50.0\n",
      "\n",
      "Camion 1 :\n",
      "De 0 à 1 avec coût 4 et temps d'arrivée 5.00\n",
      "De 0 à 6 avec coût 8 et temps d'arrivée 10.00\n",
      "De 0 à 8 avec coût 5 et temps d'arrivée 12.00\n",
      "De 4 à 5 avec coût 2 et temps d'arrivée 12.00\n",
      "De 6 à 7 avec coût 3 et temps d'arrivée 14.00\n",
      "\n",
      "Camion 2 :\n",
      "De 0 à 2 avec coût 8 et temps d'arrivée 9.00\n",
      "De 0 à 3 avec coût 10 et temps d'arrivée 10.00\n",
      "De 1 à 4 avec coût 3 et temps d'arrivée 9.00\n",
      "De 4 à 9 avec coût 4 et temps d'arrivée 16.00\n",
      "De 4 à 10 avec coût 3 et temps d'arrivée 14.00\n"
     ]
    }
   ],
   "source": [
    "# Résoudre le modèle\n",
    "model.solve()\n",
    "\n",
    "# Affichage des résultats\n",
    "print(\"Status:\", pulp.LpStatus[model.status])\n",
    "print(\"Coût total (distance):\", pulp.value(model.objective))\n",
    "\n",
    "for k in range(K):\n",
    "    print(f\"\\nCamion {k + 1} :\")\n",
    "    for i in range(N+1):\n",
    "        for j in range(N+1):\n",
    "            if i != j and pulp.value(x[i, j, k]) == 1:\n",
    "                print(f\"De {i} à {j} avec coût {distances[i][j]} et temps d'arrivée {pulp.value(t[j]):.2f}\")"
   ]
  },
  {
   "cell_type": "code",
   "execution_count": 65,
   "metadata": {},
   "outputs": [
    {
     "name": "stdout",
     "output_type": "stream",
     "text": [
      "Meilleure solution: [[0, 1, 2, 3, 8, 0], [0, 5, 6, 7, 4, 9, 0]]\n",
      "Coût total: 57\n"
     ]
    }
   ],
   "source": [
    "import random\n",
    "\n",
    "depot = 0  # Dépôt\n",
    "\n",
    "# Paramètres du Recuit Simulé\n",
    "initial_temperature = 1000\n",
    "cooling_rate = 0.95\n",
    "stopping_temperature = 1e-8\n",
    "max_iterations = 1000\n",
    "\n",
    "# Fonction de coût\n",
    "def calculate_cost(solution):\n",
    "    total_cost = 0\n",
    "    for route in solution:\n",
    "        route_cost = 0\n",
    "        for i in range(len(route) - 1):\n",
    "            route_cost += distances[route[i]][route[i + 1]]\n",
    "        total_cost += route_cost\n",
    "    return total_cost\n",
    "\n",
    "# Fonction pour générer une solution initiale\n",
    "def generate_initial_solution():\n",
    "    solution = []\n",
    "    nodes = list(range(1, N + 1))\n",
    "    for _ in range(K):\n",
    "        route = [depot]\n",
    "        load = 0\n",
    "        while nodes and load + demandes[nodes[0]] <= Q:\n",
    "            node = nodes.pop(0)\n",
    "            route.append(node)\n",
    "            load += demandes[node]\n",
    "        route.append(depot)\n",
    "        solution.append(route)\n",
    "    return solution\n",
    "\n",
    "# Fonction pour générer une solution voisine\n",
    "def generate_neighbor(solution):\n",
    "    neighbor = [route[:] for route in solution]\n",
    "    i, j = random.randint(0, K - 1), random.randint(1, len(neighbor[0]) - 2)\n",
    "    if neighbor[i][j] != depot:\n",
    "        neighbor[i][j], neighbor[(i + 1) % K][j] = neighbor[(i + 1) % K][j], neighbor[i][j]\n",
    "    return neighbor\n",
    "\n",
    "# Fonction pour exécuter le Recuit Simulé\n",
    "def simulated_annealing():\n",
    "    current_solution = generate_initial_solution()\n",
    "    current_cost = calculate_cost(current_solution)\n",
    "    best_solution = current_solution\n",
    "    best_cost = current_cost\n",
    "    temperature = initial_temperature\n",
    "\n",
    "    while temperature > stopping_temperature:\n",
    "        for _ in range(max_iterations):\n",
    "            neighbor = generate_neighbor(current_solution)\n",
    "            neighbor_cost = calculate_cost(neighbor)\n",
    "            cost_diff = neighbor_cost - current_cost\n",
    "\n",
    "            if cost_diff < 0 or np.exp(-cost_diff / temperature) > random.random():\n",
    "                current_solution = neighbor\n",
    "                current_cost = neighbor_cost\n",
    "                if current_cost < best_cost:\n",
    "                    best_solution = current_solution\n",
    "                    best_cost = current_cost\n",
    "\n",
    "        temperature *= cooling_rate\n",
    "    return best_solution, best_cost\n",
    "\n",
    "# Exécution de l'algorithme\n",
    "best_solution, best_cost = simulated_annealing()\n",
    "print(\"Meilleure solution:\", best_solution)\n",
    "print(\"Coût total:\", best_cost)"
   ]
  },
  {
   "cell_type": "code",
   "execution_count": null,
   "metadata": {},
   "outputs": [],
   "source": []
  }
 ],
 "metadata": {
  "kernelspec": {
   "display_name": "venv",
   "language": "python",
   "name": "python3"
  },
  "language_info": {
   "codemirror_mode": {
    "name": "ipython",
    "version": 3
   },
   "file_extension": ".py",
   "mimetype": "text/x-python",
   "name": "python",
   "nbconvert_exporter": "python",
   "pygments_lexer": "ipython3",
   "version": "3.10.11"
  }
 },
 "nbformat": 4,
 "nbformat_minor": 2
}
