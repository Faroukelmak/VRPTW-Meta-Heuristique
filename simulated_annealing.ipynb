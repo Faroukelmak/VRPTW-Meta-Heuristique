{
 "cells": [
  {
   "cell_type": "code",
   "execution_count": 1,
   "metadata": {},
   "outputs": [],
   "source": [
    "import random\n",
    "import math"
   ]
  },
  {
   "cell_type": "markdown",
   "metadata": {},
   "source": [
    "## setup"
   ]
  },
  {
   "cell_type": "code",
   "execution_count": 2,
   "metadata": {},
   "outputs": [],
   "source": [
    "def generate_vrptw_parameters(\n",
    "    num_vehicles,\n",
    "    num_customers,\n",
    "    cost_range=(10, 50),\n",
    "    time_range=(5, 30),\n",
    "    demand_range=(5, 15),\n",
    "    capacity=20,\n",
    "    time_window_range=(0, 100),\n",
    "    large_constant=1000,\n",
    "    seed=None,\n",
    "):\n",
    "    \"\"\"\n",
    "    Generates random VRPTW parameters for a given number of vehicles and customers.\n",
    "\n",
    "    Parameters:\n",
    "    - num_vehicles (int): Number of vehicles.\n",
    "    - num_customers (int): Number of customers (not including depots).\n",
    "    - cost_range (tuple): Range for travel costs between nodes.\n",
    "    - time_range (tuple): Range for travel times between nodes.\n",
    "    - demand_range (tuple): Range for customer demands.\n",
    "    - capacity (int): Capacity of each vehicle.\n",
    "    - time_window_range (tuple): Range for time windows (start and end times).\n",
    "    - large_constant (int): Large constant for constraints.\n",
    "\n",
    "    Returns:\n",
    "    - dict: A dictionary containing all sets and parameters.\n",
    "    \"\"\"\n",
    "    if seed is not None:\n",
    "        random.seed(seed)\n",
    "\n",
    "    # Sets\n",
    "    V = list(range(1, num_vehicles + 1))  # Vehicles labeled from 1 to num_vehicles\n",
    "    N = list(\n",
    "        range(num_customers + 2)\n",
    "    )  # Nodes labeled from 0 to num_customers+1 (including depots)\n",
    "    C = list(range(1, num_customers + 1))  # Customers labeled from 1 to num_customers\n",
    "\n",
    "    # Parameters\n",
    "    cij = {(i, j): random.randint(*cost_range) for i in N for j in N if i != j}\n",
    "    tij = {(i, j): random.randint(*time_range) for i in N for j in N if i != j}\n",
    "    di = {i: random.randint(*demand_range) for i in C}  # Customer demands\n",
    "    q = capacity  # Vehicle capacity\n",
    "    a = {i: random.randint(*time_window_range) for i in N}  # Start of time window\n",
    "    b = {\n",
    "        i: random.randint(a[i] + 1, time_window_range[1]) for i in N\n",
    "    }  # End of time window, after start time\n",
    "    K = large_constant  # Large constant for time window constraints\n",
    "\n",
    "    # Ensuring depot time windows\n",
    "    a[0], b[0] = 0, time_window_range[1]  # Starting depot time window\n",
    "    a[num_customers + 1], b[num_customers + 1] = (\n",
    "        0,\n",
    "        time_window_range[1],\n",
    "    )  # Returning depot time window\n",
    "\n",
    "    return {\n",
    "        \"V\": V,\n",
    "        \"N\": N,\n",
    "        \"C\": C,\n",
    "        \"cij\": cij,\n",
    "        \"tij\": tij,\n",
    "        \"di\": di,\n",
    "        \"q\": q,\n",
    "        \"a\": a,\n",
    "        \"b\": b,\n",
    "        \"K\": K,\n",
    "    }"
   ]
  },
  {
   "cell_type": "code",
   "execution_count": 3,
   "metadata": {},
   "outputs": [
    {
     "name": "stdout",
     "output_type": "stream",
     "text": [
      "{'V': [1, 2], 'N': [0, 1, 2, 3, 4], 'C': [1, 2, 3], 'cij': {(0, 1): 44, (0, 2): 28, (0, 3): 49, (0, 4): 11, (1, 0): 49, (1, 2): 23, (1, 3): 26, (1, 4): 13, (2, 0): 35, (2, 1): 34, (2, 3): 18, (2, 4): 15, (3, 0): 39, (3, 1): 10, (3, 2): 43, (3, 4): 25, (4, 0): 11, (4, 1): 14, (4, 2): 20, (4, 3): 48}, 'tij': {(0, 1): 21, (0, 2): 17, (0, 3): 25, (0, 4): 16, (1, 0): 22, (1, 2): 7, (1, 3): 17, (1, 4): 5, (2, 0): 12, (2, 1): 30, (2, 3): 23, (2, 4): 26, (3, 0): 13, (3, 1): 29, (3, 2): 18, (3, 4): 23, (4, 0): 8, (4, 1): 26, (4, 2): 13, (4, 3): 25}, 'di': {1: 13, 2: 6, 3: 14}, 'q': 20, 'a': {0: 0, 1: 39, 2: 16, 3: 39, 4: 0}, 'b': {0: 100, 1: 72, 2: 27, 3: 48, 4: 100}, 'K': 1000}\n"
     ]
    }
   ],
   "source": [
    "n = 3  # num of customers\n",
    "num_vehicles = 2\n",
    "parameters = generate_vrptw_parameters(\n",
    "    num_vehicles=num_vehicles, num_customers=n, seed=30\n",
    ")\n",
    "print(parameters)\n",
    "V, N, C, cij, tij, di, q, a, b, K = parameters.values()"
   ]
  },
  {
   "cell_type": "code",
   "execution_count": 4,
   "metadata": {},
   "outputs": [
    {
     "name": "stdout",
     "output_type": "stream",
     "text": [
      "a: {0: 0, 1: 39, 2: 16, 3: 39, 4: 0} \n",
      "b: {0: 100, 1: 72, 2: 27, 3: 48, 4: 100}\n"
     ]
    }
   ],
   "source": [
    "print(f\"a: {a} \\nb: {b}\")"
   ]
  },
  {
   "cell_type": "markdown",
   "metadata": {},
   "source": [
    "## SA"
   ]
  },
  {
   "cell_type": "markdown",
   "metadata": {},
   "source": [
    "solutions for testing"
   ]
  },
  {
   "cell_type": "code",
   "execution_count": 5,
   "metadata": {},
   "outputs": [],
   "source": [
    "exact_routes = [[0, 1, 4], [0, 2, 3, 4]]\n",
    "infeasible_routes = [[0, 1, 4], [0, 2, 3]]\n",
    "feasible_routes = [[0, 3, 4], [0, 2, 1, 4]]"
   ]
  },
  {
   "cell_type": "markdown",
   "metadata": {},
   "source": [
    "check the feasibility of a solution"
   ]
  },
  {
   "cell_type": "code",
   "execution_count": 6,
   "metadata": {},
   "outputs": [],
   "source": [
    "def is_feasible(routes, tij, di, q, a, b, K):\n",
    "    \"\"\"\n",
    "    Checks if a solution (routes) is feasible based on VRPTW constraints.\n",
    "\n",
    "    Parameters:\n",
    "    - routes: List of routes, where each route is a list of customer visits for each vehicle.\n",
    "    - cij: Cost matrix between nodes (i, j).\n",
    "    - tij: Travel time matrix between nodes (i, j).\n",
    "    - di: Demand for each customer.\n",
    "    - q: Vehicle capacity.\n",
    "    - a: Start time for time windows for each node.\n",
    "    - b: End time for time windows for each node.\n",
    "    - K: Large constant for time window constraints.\n",
    "\n",
    "    Returns:\n",
    "    - bool: True if the solution is feasible, False otherwise.\n",
    "    \"\"\"\n",
    "\n",
    "    # Constraint (2.2): Each customer is visited exactly once\n",
    "    customers_visited = set()\n",
    "    for route in routes:\n",
    "        for i in route:\n",
    "            if i != 0 and i != len(b) - 1:  # Exclude depot nodes\n",
    "                customers_visited.add(i)\n",
    "    if len(customers_visited) != len(di):\n",
    "        return False\n",
    "\n",
    "    # Check each vehicle's route\n",
    "    for k, route in enumerate(routes):\n",
    "        # Initialize load and arrival time\n",
    "        load = 0\n",
    "        arrival_time = 0\n",
    "\n",
    "        # Iterate through each customer in the route\n",
    "        for idx in range(len(route) - 1):\n",
    "            i, j = route[idx], route[idx + 1]\n",
    "\n",
    "            # Constraint (2.3): Vehicle capacity\n",
    "            if j in di:  # Skip depot nodes\n",
    "                load += di[j]\n",
    "                if load > q:\n",
    "                    return False  # Exceeds vehicle capacity\n",
    "\n",
    "            # Constraint (2.7): Time window and travel time constraints\n",
    "            arrival_time = max(arrival_time + tij[i, j], a[j])\n",
    "            if arrival_time > b[j]:\n",
    "                return False  # Exceeds time window\n",
    "\n",
    "        # Constraint (2.4) and (2.6): Route must start and end at depot\n",
    "        if route[0] != 0 or route[-1] != len(b) - 1:\n",
    "            return False\n",
    "\n",
    "    # All constraints satisfied\n",
    "    return True"
   ]
  },
  {
   "cell_type": "markdown",
   "metadata": {},
   "source": [
    "sanity check on the previews solution"
   ]
  },
  {
   "cell_type": "code",
   "execution_count": 7,
   "metadata": {},
   "outputs": [
    {
     "data": {
      "text/plain": [
       "True"
      ]
     },
     "execution_count": 7,
     "metadata": {},
     "output_type": "execute_result"
    }
   ],
   "source": [
    "is_feasible(exact_routes, tij, di, q, a, b, K)"
   ]
  },
  {
   "cell_type": "code",
   "execution_count": 8,
   "metadata": {},
   "outputs": [
    {
     "data": {
      "text/plain": [
       "False"
      ]
     },
     "execution_count": 8,
     "metadata": {},
     "output_type": "execute_result"
    }
   ],
   "source": [
    "is_feasible(infeasible_routes, tij, di, q, a, b, K)"
   ]
  },
  {
   "cell_type": "code",
   "execution_count": 9,
   "metadata": {},
   "outputs": [
    {
     "data": {
      "text/plain": [
       "True"
      ]
     },
     "execution_count": 9,
     "metadata": {},
     "output_type": "execute_result"
    }
   ],
   "source": [
    "is_feasible(feasible_routes, tij, di, q, a, b, K)"
   ]
  },
  {
   "cell_type": "markdown",
   "metadata": {},
   "source": [
    "Parameters for simulated annealing"
   ]
  },
  {
   "cell_type": "code",
   "execution_count": 10,
   "metadata": {},
   "outputs": [],
   "source": [
    "initial_temperature = 1000\n",
    "cooling_rate = 0.995\n",
    "max_iterations = 1000"
   ]
  },
  {
   "cell_type": "markdown",
   "metadata": {},
   "source": [
    "cost"
   ]
  },
  {
   "cell_type": "code",
   "execution_count": 11,
   "metadata": {},
   "outputs": [],
   "source": [
    "def calculate_cost(x, cij, tij, a, b, q, di, routes):\n",
    "    \"\"\"\n",
    "    Calculate the total cost of a given solution (routes).\n",
    "\n",
    "    Parameters:\n",
    "    - x: Decision variable dict to track arcs in the solution.\n",
    "    - cij: Cost between nodes (i, j).\n",
    "    - tij: Travel time between nodes (i, j).\n",
    "    - a: Start time for time windows.\n",
    "    - b: End time for time windows.\n",
    "    - q: Vehicle capacity.\n",
    "    - di: Customer demands.\n",
    "    - routes: List of routes for each vehicle.\n",
    "\n",
    "    Returns:\n",
    "    - float: Total cost of the solution.\n",
    "    \"\"\"\n",
    "    total_cost = 0\n",
    "\n",
    "    x = {k: {} for k in range(num_vehicles)}  # Track arcs\n",
    "    for k, route in enumerate(routes):\n",
    "        load = 0\n",
    "        arrival_time = 0\n",
    "\n",
    "        for idx in range(len(route) - 1):\n",
    "            i, j = route[idx], route[idx + 1]\n",
    "\n",
    "            # Mark x[k, i, j] as 1 for the arc in the current route\n",
    "            x[k, i, j] = 1\n",
    "\n",
    "            # Add travel cost\n",
    "            total_cost += cij[i, j]\n",
    "\n",
    "            # Calculate arrival time at node j\n",
    "            arrival_time = max(arrival_time + tij[i, j], a[j])\n",
    "\n",
    "            # Check feasibility with time windows\n",
    "            if arrival_time > b[j]:\n",
    "                return float('inf')  # Penalize infeasible solution\n",
    "\n",
    "            # Update load and check capacity\n",
    "            if j in di:  # Skip depot nodes\n",
    "                load += di[j]\n",
    "                if load > q:\n",
    "                    return float('inf')  # Penalize infeasible solution\n",
    "\n",
    "    return total_cost\n"
   ]
  },
  {
   "cell_type": "markdown",
   "metadata": {},
   "source": [
    "sanity check on exact solution"
   ]
  },
  {
   "cell_type": "code",
   "execution_count": 12,
   "metadata": {},
   "outputs": [
    {
     "data": {
      "text/plain": [
       "128"
      ]
     },
     "execution_count": 12,
     "metadata": {},
     "output_type": "execute_result"
    }
   ],
   "source": [
    "x = {k: {} for k in range(num_vehicles)}  # Track arcs\n",
    "calculate_cost(x, cij, tij, a, b, q, di, exact_routes)"
   ]
  },
  {
   "cell_type": "code",
   "execution_count": 13,
   "metadata": {},
   "outputs": [
    {
     "data": {
      "text/plain": [
       "103"
      ]
     },
     "execution_count": 13,
     "metadata": {},
     "output_type": "execute_result"
    }
   ],
   "source": [
    "x = {k: {} for k in range(num_vehicles)}  # Track arcs\n",
    "calculate_cost(x, cij, tij, a, b, q, di, infeasible_routes)"
   ]
  },
  {
   "cell_type": "code",
   "execution_count": 14,
   "metadata": {},
   "outputs": [
    {
     "data": {
      "text/plain": [
       "149"
      ]
     },
     "execution_count": 14,
     "metadata": {},
     "output_type": "execute_result"
    }
   ],
   "source": [
    "x = {k: {} for k in range(num_vehicles)}  # Track arcs\n",
    "calculate_cost(x, cij, tij, a, b, q, di, feasible_routes)"
   ]
  },
  {
   "cell_type": "markdown",
   "metadata": {},
   "source": [
    "Generate a new solution by randomly modifying the current routes."
   ]
  },
  {
   "cell_type": "code",
   "execution_count": 15,
   "metadata": {},
   "outputs": [],
   "source": [
    "def generate_new_solution(routes):\n",
    "    \"\"\"\n",
    "    Generate a new solution by randomly modifying the current routes.\n",
    "\n",
    "    Parameters:\n",
    "    - routes: Current solution as a list of routes.\n",
    "\n",
    "    Returns:\n",
    "    - list: New solution with slightly modified routes.\n",
    "    \"\"\"\n",
    "    new_routes = [route[:] for route in routes]  # Deep copy of current routes\n",
    "    vehicle1, vehicle2 = random.sample(range(len(new_routes)), 2)\n",
    "    if new_routes[vehicle1] and new_routes[vehicle2]:\n",
    "        # Randomly swap nodes between two routes\n",
    "        i = random.randint(1, len(new_routes[vehicle1]) - 2)\n",
    "        j = random.randint(1, len(new_routes[vehicle2]) - 2)\n",
    "        new_routes[vehicle1][i], new_routes[vehicle2][j] = (\n",
    "            new_routes[vehicle2][j],\n",
    "            new_routes[vehicle1][i],\n",
    "        )\n",
    "    return new_routes"
   ]
  },
  {
   "cell_type": "code",
   "execution_count": 16,
   "metadata": {},
   "outputs": [],
   "source": [
    "def simulated_annealing(cij, tij, a, b, q, di, initial_routes, num_vehicles):\n",
    "    \"\"\"\n",
    "    Solve the VRPTW using simulated annealing.\n",
    "\n",
    "    Parameters:\n",
    "    - cij: Cost between nodes (i, j).\n",
    "    - tij: Travel time between nodes (i, j).\n",
    "    - a: Start time for time windows.\n",
    "    - b: End time for time windows.\n",
    "    - q: Vehicle capacity.\n",
    "    - di: Customer demands.\n",
    "    - initial_routes: Initial feasible solution.\n",
    "    - num_vehicles: Number of vehicles.\n",
    "\n",
    "    Returns:\n",
    "    - tuple: Best routes and their cost.\n",
    "    \"\"\"\n",
    "    # Initialize variables\n",
    "    current_routes = feasible_routes\n",
    "    best_routes = current_routes\n",
    "    x = {k: {} for k in range(num_vehicles)}  # Track arcs\n",
    "    best_cost = calculate_cost(x, cij, tij, a, b, q, di, best_routes)\n",
    "\n",
    "    temperature = 1000\n",
    "    cooling_rate = 0.99\n",
    "\n",
    "    while temperature > 1:\n",
    "        # Generate a new solution\n",
    "        new_routes = generate_new_solution(current_routes)\n",
    "\n",
    "        # Calculate the cost of the new solution\n",
    "        cost = calculate_cost(x, cij, tij, a, b, q, di, new_routes)\n",
    "\n",
    "        # Accept or reject the new solution\n",
    "        if cost < best_cost or random.uniform(0, 1) < math.exp((best_cost - cost) / temperature):\n",
    "            current_routes = new_routes\n",
    "            if cost < best_cost:\n",
    "                best_cost = cost\n",
    "                best_routes = new_routes\n",
    "\n",
    "        # Cool down\n",
    "        temperature *= cooling_rate\n",
    "\n",
    "    return best_routes, best_cost"
   ]
  },
  {
   "cell_type": "code",
   "execution_count": 17,
   "metadata": {},
   "outputs": [
    {
     "name": "stdout",
     "output_type": "stream",
     "text": [
      "Best Routes:\n",
      "Vehicle 1 route: [0, 1, 4]\n",
      "Vehicle 2 route: [0, 2, 3, 4]\n",
      "Best Cost: 128\n"
     ]
    }
   ],
   "source": [
    "initial_routes = feasible_routes\n",
    "\n",
    "best_routes, best_cost = simulated_annealing(\n",
    "    cij=parameters[\"cij\"],\n",
    "    tij=parameters[\"tij\"],\n",
    "    a=parameters[\"a\"],\n",
    "    b=parameters[\"b\"],\n",
    "    q=parameters[\"q\"],\n",
    "    di=parameters[\"di\"],\n",
    "    initial_routes=initial_routes,\n",
    "    num_vehicles=len(parameters[\"V\"]),\n",
    ")\n",
    "\n",
    "print(\"Best Routes:\")\n",
    "for k, route in enumerate(best_routes):\n",
    "    print(f\"Vehicle {k+1} route:\", route)\n",
    "\n",
    "print(\"Best Cost:\", best_cost)\n"
   ]
  }
 ],
 "metadata": {
  "kernelspec": {
   "display_name": "venv",
   "language": "python",
   "name": "python3"
  },
  "language_info": {
   "codemirror_mode": {
    "name": "ipython",
    "version": 3
   },
   "file_extension": ".py",
   "mimetype": "text/x-python",
   "name": "python",
   "nbconvert_exporter": "python",
   "pygments_lexer": "ipython3",
   "version": "3.10.12"
  }
 },
 "nbformat": 4,
 "nbformat_minor": 2
}
