{
 "cells": [
  {
   "cell_type": "code",
   "execution_count": 138,
   "metadata": {},
   "outputs": [],
   "source": [
    "import numpy as np\n",
    "import random\n",
    "import math"
   ]
  },
  {
   "cell_type": "code",
   "execution_count": 139,
   "metadata": {},
   "outputs": [],
   "source": [
    "def generate_vrptw_data(\n",
    "    num_customers,\n",
    "    max_demand,\n",
    "    max_travel_time,\n",
    "    max_service_time,\n",
    "    max_time_window,\n",
    "    max_cost,\n",
    "    random_seed=None\n",
    "):\n",
    "    if random_seed is not None:\n",
    "        random.seed(random_seed)\n",
    "        np.random.seed(random_seed)\n",
    "\n",
    "    demands = np.array(\n",
    "        [0] + [random.randint(1, max_demand) for _ in range(num_customers)]\n",
    "    )\n",
    "\n",
    "    travel_times = np.zeros((num_customers + 1, num_customers + 1), dtype=int)\n",
    "    for i in range(num_customers + 1):\n",
    "        for j in range(i + 1, num_customers + 1):\n",
    "            travel_times[i, j] = travel_times[j, i] = random.randint(1, max_travel_time)\n",
    "\n",
    "    costs = np.zeros((num_customers + 1, num_customers + 1), dtype=int)\n",
    "    for i in range(num_customers + 1):\n",
    "        for j in range(i + 1, num_customers + 1):\n",
    "            costs[i, j] = costs[j, i] = random.randint(1, max_cost)\n",
    "\n",
    "    time_windows = np.array(\n",
    "        [(0, max_time_window)]\n",
    "        + [\n",
    "            (\n",
    "                random.randint(0, max_time_window // 2),\n",
    "                random.randint(max_time_window // 2, max_time_window),\n",
    "            )\n",
    "            for _ in range(num_customers)\n",
    "        ]\n",
    "    )\n",
    "\n",
    "    service_times = np.array(\n",
    "        [0] + [random.randint(1, max_service_time) for _ in range(num_customers)]\n",
    "    )\n",
    "\n",
    "    return demands, travel_times, costs, time_windows, service_times"
   ]
  },
  {
   "cell_type": "code",
   "execution_count": 140,
   "metadata": {},
   "outputs": [
    {
     "name": "stdout",
     "output_type": "stream",
     "text": [
      "Demands: [0 1 1 3 2 2 2 1 5 1 5]\n",
      "Travel Times:\n",
      " [[ 0 14  2  1  3  7  8 17 20  1 18]\n",
      " [14  0  7 23 21 23 18 14  8 15 19]\n",
      " [ 2  7  0  9 26 28  1 25 26  6 23]\n",
      " [ 1 23  9  0 14 11  9  5  7 25 11]\n",
      " [ 3 21 26 14  0  4  3 13  4 12 28]\n",
      " [ 7 23 28 11  4  0 12 20  9 26  2]\n",
      " [ 8 18  1  9  3 12  0 24 15 18  4]\n",
      " [17 14 25  5 13 20 24  0 30 13  3]\n",
      " [20  8 26  7  4  9 15 30  0 18 10]\n",
      " [ 1 15  6 25 12 26 18 13 18  0 27]\n",
      " [18 19 23 11 28  2  4  3 10 27  0]]\n",
      "Costs:\n",
      " [[ 0 41 40 24 37 13 46  5  3 43 15]\n",
      " [41  0 50 19  6 15  7 25 18 30 41]\n",
      " [40 50  0 24 11 24 23 14 43 18 45]\n",
      " [24 19 24  0 44 42  5 39 41 11 35]\n",
      " [37  6 11 44  0 47 16 11 30 25 18]\n",
      " [13 15 24 42 47  0 41 45 36 15 44]\n",
      " [46  7 23  5 16 41  0 21 50 50  4]\n",
      " [ 5 25 14 39 11 45 21  0 15  3 21]\n",
      " [ 3 18 43 41 30 36 50 15  0 26 18]\n",
      " [43 30 18 11 25 15 50  3 26  0  5]\n",
      " [15 41 45 35 18 44  4 21 18  5  0]]\n",
      "Time Windows: [[  0 100]\n",
      " [ 13  86]\n",
      " [ 45  70]\n",
      " [ 13  91]\n",
      " [ 31  75]\n",
      " [ 41  79]\n",
      " [  9  66]\n",
      " [  8  65]\n",
      " [ 47  85]\n",
      " [ 34  66]\n",
      " [ 47  87]]\n",
      "Service Times: [ 0  7 15 10  7  6  4  3  9  8  2]\n"
     ]
    }
   ],
   "source": [
    "max_demand = 5\n",
    "max_travel_time = 30\n",
    "max_service_time = 15\n",
    "max_time_window = 100\n",
    "N = 10  # Nombre de points de collecte (sans compter le dépôt)\n",
    "num_camions = 2\n",
    "camion_capacity = 15\n",
    "max_cost = 50\n",
    "\n",
    "demands, travel_times, costs, time_windows, service_times = generate_vrptw_data(\n",
    "    N,\n",
    "    max_demand,\n",
    "    max_travel_time,\n",
    "    max_service_time,\n",
    "    max_time_window,\n",
    "    max_cost,\n",
    "    random_seed=42,\n",
    ")\n",
    "print(\"Demands:\", demands)\n",
    "print(\"Travel Times:\\n\", travel_times)\n",
    "print(\"Costs:\\n\", costs)\n",
    "print(\"Time Windows:\", time_windows)\n",
    "print(\"Service Times:\", service_times)"
   ]
  },
  {
   "cell_type": "markdown",
   "metadata": {},
   "source": [
    "## Simulated Annealing"
   ]
  },
  {
   "cell_type": "markdown",
   "metadata": {},
   "source": [
    "Constants for Simulated Annealing"
   ]
  },
  {
   "cell_type": "code",
   "execution_count": 141,
   "metadata": {},
   "outputs": [],
   "source": [
    "initial_temperature = 100000\n",
    "cooling_rate = 0.995\n",
    "num_iterations = 1000"
   ]
  },
  {
   "cell_type": "markdown",
   "metadata": {},
   "source": [
    "Define the objective function for VRPTW (using costs, not travel times)"
   ]
  },
  {
   "cell_type": "code",
   "execution_count": 142,
   "metadata": {},
   "outputs": [],
   "source": [
    "def calculate_total_cost(solution, costs):\n",
    "    total_cost = 0\n",
    "    for route in solution:\n",
    "        for i in range(len(route) - 1):\n",
    "            total_cost += costs[route[i]][route[i + 1]]\n",
    "        total_cost += costs[route[-1]][0]  # Return to depot cost\n",
    "    return total_cost"
   ]
  },
  {
   "cell_type": "markdown",
   "metadata": {},
   "source": [
    "Calculate the cost for the previews cost as a sanity test"
   ]
  },
  {
   "cell_type": "code",
   "execution_count": 143,
   "metadata": {},
   "outputs": [
    {
     "data": {
      "text/plain": [
       "np.int64(16)"
      ]
     },
     "execution_count": 143,
     "metadata": {},
     "output_type": "execute_result"
    }
   ],
   "source": [
    "calculate_total_cost(solution=[[0, 7, 0], [0, 8, 0]], costs=costs)"
   ]
  },
  {
   "cell_type": "markdown",
   "metadata": {},
   "source": [
    "Generate a random feasible solution"
   ]
  },
  {
   "cell_type": "code",
   "execution_count": 144,
   "metadata": {},
   "outputs": [],
   "source": [
    "def generate_initial_solution(num_customers, num_vehicles, demands, camion_capacity):\n",
    "    customers = list(range(1, num_customers + 1))\n",
    "    random.shuffle(customers)\n",
    "\n",
    "    solution = []\n",
    "    vehicle_route = []\n",
    "    vehicle_load = 0\n",
    "    for customer in customers:\n",
    "        if vehicle_load + demands[customer] <= camion_capacity:\n",
    "            vehicle_route.append(customer)\n",
    "            vehicle_load += demands[customer]\n",
    "        else:\n",
    "            solution.append(vehicle_route)\n",
    "            vehicle_route = [customer]\n",
    "            vehicle_load = demands[customer]\n",
    "    solution.append(vehicle_route)\n",
    "    #solution = [[0, 7, 0], [0, 8, 0]]\n",
    "    return solution"
   ]
  },
  {
   "cell_type": "markdown",
   "metadata": {},
   "source": [
    "Check if a solution respects the time windows and capacity constraints"
   ]
  },
  {
   "cell_type": "code",
   "execution_count": 145,
   "metadata": {},
   "outputs": [],
   "source": [
    "def is_feasible(\n",
    "    solution, demands, camion_capacity, time_windows, travel_times, service_times\n",
    "):\n",
    "    for route in solution:\n",
    "        load = 0\n",
    "        time = 0\n",
    "        for i in range(len(route)):\n",
    "            customer = route[i]\n",
    "            load += demands[customer]\n",
    "            if load > camion_capacity:\n",
    "                return False\n",
    "            if i > 0:\n",
    "                time += (\n",
    "                    travel_times[route[i - 1]][customer] + service_times[route[i - 1]]\n",
    "                )\n",
    "            if time < time_windows[customer][0] or time > time_windows[customer][1]:\n",
    "                return False\n",
    "        time += travel_times[route[-1]][0]  # Return to depot\n",
    "    return True"
   ]
  },
  {
   "cell_type": "markdown",
   "metadata": {},
   "source": [
    "Apply a small modification (swap two customers between routes) to generate a neighbor solution"
   ]
  },
  {
   "cell_type": "code",
   "execution_count": 146,
   "metadata": {},
   "outputs": [],
   "source": [
    "def get_neighbor(solution):\n",
    "    new_solution = [route[:] for route in solution]  # Deep copy\n",
    "    route1, route2 = random.sample(new_solution, 2)\n",
    "    if route1 and route2:\n",
    "        i, j = random.randint(0, len(route1) - 1), random.randint(0, len(route2) - 1)\n",
    "        route1[i], route2[j] = route2[j], route1[i]\n",
    "    return new_solution"
   ]
  },
  {
   "cell_type": "markdown",
   "metadata": {},
   "source": [
    "Simulated Annealing"
   ]
  },
  {
   "cell_type": "code",
   "execution_count": 147,
   "metadata": {},
   "outputs": [],
   "source": [
    "def simulated_annealing(\n",
    "    num_customers,\n",
    "    num_vehicles,\n",
    "    demands,\n",
    "    camion_capacity,\n",
    "    costs,\n",
    "    travel_times,\n",
    "    time_windows,\n",
    "    service_times,\n",
    "):\n",
    "    current_solution = generate_initial_solution(\n",
    "        num_customers, num_vehicles, demands, camion_capacity\n",
    "    )\n",
    "    print(f'Initial_solution: {current_solution}')\n",
    "    best_solution = current_solution\n",
    "    best_cost = calculate_total_cost(current_solution, costs)\n",
    "    temperature = initial_temperature\n",
    "\n",
    "    for _ in range(num_iterations):\n",
    "        new_solution = get_neighbor(current_solution)\n",
    "        if is_feasible(\n",
    "            new_solution,\n",
    "            demands,\n",
    "            camion_capacity,\n",
    "            time_windows,\n",
    "            travel_times,\n",
    "            service_times,\n",
    "        ):\n",
    "            new_cost = calculate_total_cost(new_solution, costs)\n",
    "            cost_diff = new_cost - best_cost\n",
    "            if cost_diff < 0 or random.random() < np.exp(-cost_diff / temperature):\n",
    "                current_solution = new_solution\n",
    "                if new_cost < best_cost:\n",
    "                    best_cost = new_cost\n",
    "                    best_solution = new_solution\n",
    "        temperature *= cooling_rate  # Cool down\n",
    "\n",
    "    return best_solution, best_cost"
   ]
  },
  {
   "cell_type": "code",
   "execution_count": 148,
   "metadata": {},
   "outputs": [
    {
     "name": "stdout",
     "output_type": "stream",
     "text": [
      "Initial_solution: [[5, 8, 7, 10, 4], [9, 6, 3, 2, 1]]\n",
      "Best solution: [[5, 8, 7, 10, 4], [9, 6, 3, 2, 1]]\n",
      "Best cost: 297\n"
     ]
    }
   ],
   "source": [
    "# Example usage\n",
    "solution, cost = simulated_annealing(\n",
    "    N,\n",
    "    num_camions,\n",
    "    demands,\n",
    "    camion_capacity,\n",
    "    costs,  # Using costs matrix\n",
    "    travel_times,  # Still used in time window constraints\n",
    "    time_windows,\n",
    "    service_times,\n",
    ")\n",
    "\n",
    "print(\"Best solution:\", solution)\n",
    "print(\"Best cost:\", cost)"
   ]
  }
 ],
 "metadata": {
  "kernelspec": {
   "display_name": "venv",
   "language": "python",
   "name": "python3"
  },
  "language_info": {
   "codemirror_mode": {
    "name": "ipython",
    "version": 3
   },
   "file_extension": ".py",
   "mimetype": "text/x-python",
   "name": "python",
   "nbconvert_exporter": "python",
   "pygments_lexer": "ipython3",
   "version": "3.10.12"
  }
 },
 "nbformat": 4,
 "nbformat_minor": 2
}
